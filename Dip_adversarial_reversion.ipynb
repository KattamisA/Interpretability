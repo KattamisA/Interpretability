{
 "cells": [
  {
   "cell_type": "markdown",
   "metadata": {},
   "source": [
    "# Importing Libraries"
   ]
  },
  {
   "cell_type": "code",
   "execution_count": 2,
   "metadata": {},
   "outputs": [],
   "source": [
    "from functions.adversarial import *\n",
    "from functions.classification import *\n",
    "from functions.dip.DIP import *\n",
    "import cv2\n",
    "import numpy as np\n",
    "from utils import *\n",
    "import matplotlib.pyplot as plt\n",
    "from functions.imagenet_classes import classes"
   ]
  },
  {
   "cell_type": "markdown",
   "metadata": {},
   "source": [
    "# Observing DIP effects on adversarial examples\n",
    "\n",
    "Test on an adversarial image created from FGSM and LLCI with $\\epsilon=25$.\n",
    "\n",
    "1. First we will generetate the adversarial example.\n",
    "2. Pass the adversarial examples through DIP and save the averaged output every $100$ iterations.\n",
    "3. Then observe the classification confidence of the correct classification"
   ]
  },
  {
   "cell_type": "markdown",
   "metadata": {},
   "source": [
    "## FGSM, $\\epsilon=25$"
   ]
  },
  {
   "cell_type": "markdown",
   "metadata": {},
   "source": [
    "### FGSM,  $\\epsilon=25$ - Generation"
   ]
  },
  {
   "cell_type": "code",
   "execution_count": null,
   "metadata": {},
   "outputs": [],
   "source": [
    "adv, orig, pert = adversarial_examples('data/panda.jpg',model_name = 'resnet18', method='FGSM',eps=25, show=False)\n",
    "\n",
    "# Process image into the right format\n",
    "img = adv.copy().astype(np.float32)\n",
    "img /= 255.0\n",
    "inpt = np_to_torch(img.transpose(2,0,1))\n",
    "\n",
    "iterations = 10001\n",
    "output = DIP(inpt, save = True, save_path = 'results/Adv_DIP/FGSM_eps25', num_iter = iterations, PLOT = False)"
   ]
  },
  {
   "cell_type": "markdown",
   "metadata": {},
   "source": [
    "### FGSM,  $\\epsilon=25$ - Classification"
   ]
  },
  {
   "cell_type": "code",
   "execution_count": null,
   "metadata": {},
   "outputs": [],
   "source": [
    "# Find original classification class\n",
    "P, R = classification(orig, model_name = 'resnet18', sort = True, show=False)\n",
    "original_class = R[0,0]\n",
    "P, R = classification(adv, model_name = 'resnet18', sort = True, show=False)\n",
    "final_classes = R[0,0:5]\n",
    "# Create matrix to store values\n",
    "Confidence = np.ones([round((iterations-1)/100+1),6])\n",
    "Ranks_matrix = np.ones([round((iterations-1)/100+1),5])\n",
    "\n",
    "for i in range(round((iterations-1)/100+1)):\n",
    "    orig = cv2.imread(\"results/Adv_DIP/FGSM_eps25/it_{}.png\".format(i*100))[..., ::-1]\n",
    "    orig = cv2.resize(orig, (256, 256))\n",
    "    img = orig.copy().astype(np.float32)\n",
    "    Probs, Ranks = classification(img, model_name = 'resnet18', sort = False, show = False)\n",
    "    Probs_np = torch_to_np(Probs)\n",
    "    Confidence[i,0] = Probs_np[original_class]\n",
    "    P , Ranking = Probs.sort(descending=True)\n",
    "    Ranking_np = torch_to_np(Ranking)\n",
    "    for j in range(5):\n",
    "        Confidence[i,j+1] = Probs_np[final_classes[j]]\n",
    "        Ranks_matrix[i,j] = Ranking_np[j]    "
   ]
  },
  {
   "cell_type": "markdown",
   "metadata": {},
   "source": [
    "### FGSM,  $\\epsilon=25$ - Plotting"
   ]
  },
  {
   "cell_type": "code",
   "execution_count": null,
   "metadata": {},
   "outputs": [],
   "source": [
    "it = np.arange(0, iterations+99, 100)\n",
    "iters = round((iterations-1)/100+1)\n",
    "fig = plt.figure(figsize=(6, 6))\n",
    "plt.xlabel('DIP Iterations')\n",
    "plt.ylabel('Confidence of true class')\n",
    "plt.plot(it,Confidence)\n",
    "plt.show()\n",
    "\n",
    "# Save stuff\n",
    "fig.savefig('results/Adv_DIP/FGSM_eps25/Graph_FGSM_eps25_full.png')\n",
    "np.savetxt('results/Adv_DIP/FGSM_eps25/FGSM_eps25_full.txt', Confidence)\n",
    "np.savetxt('results/Adv_DIP/FGSM_eps25/FGSM_eps25_ranks.txt', Ranks_matrix)\n",
    "for i in range(5):\n",
    "    print(classes[int(Ranks_matrix[-1,i])].split(',')[0])"
   ]
  },
  {
   "cell_type": "markdown",
   "metadata": {},
   "source": [
    "## LLCI method, $\\epsilon=25$"
   ]
  },
  {
   "cell_type": "markdown",
   "metadata": {},
   "source": [
    "### LLCI,  $\\epsilon=25$ - Generation"
   ]
  },
  {
   "cell_type": "code",
   "execution_count": 3,
   "metadata": {},
   "outputs": [
    {
     "name": "stdout",
     "output_type": "stream",
     "text": [
      "Number of params: 572827\n",
      "Starting optimization with ADAM\n"
     ]
    },
    {
     "name": "stderr",
     "output_type": "stream",
     "text": [
      "C:\\ProgramData\\Anaconda3\\lib\\site-packages\\torch\\nn\\modules\\upsampling.py:122: UserWarning: nn.Upsampling is deprecated. Use nn.functional.interpolate instead.\n",
      "  warnings.warn(\"nn.Upsampling is deprecated. Use nn.functional.interpolate instead.\")\n",
      "C:\\ProgramData\\Anaconda3\\lib\\site-packages\\torch\\nn\\functional.py:1961: UserWarning: Default upsampling behavior when mode=bilinear is changed to align_corners=False since 0.4.0. Please specify align_corners=True if the old behavior is desired. See the documentation of nn.Upsample for details.\n",
      "  \"See the documentation of nn.Upsample for details.\".format(mode))\n"
     ]
    },
    {
     "name": "stdout",
     "output_type": "stream",
     "text": [
      "DIP Iteration 10000    Loss 0.000342   PSNR_noisy: 34.6597\r"
     ]
    }
   ],
   "source": [
    "#Generating adversarial example\n",
    "adv, orig, pert = adversarial_examples('data/goldfish.jpg',model_name = 'resnet18', method='LLCI',eps=25, show=False)\n",
    "\n",
    "# Process image into the right format\n",
    "img = adv.copy().astype(np.float32)\n",
    "img /= 255.0\n",
    "inpt = np_to_torch(img.transpose(2,0,1))\n",
    "\n",
    "# Applying the Deep Image Prior for 10001 iterations and saving every 100\n",
    "iterations = 10001\n",
    "output = DIP(inpt, save = True, save_path = 'results/Adv_DIP/goldfish/LLCI_eps25', num_iter = iterations, PLOT = False)"
   ]
  },
  {
   "cell_type": "markdown",
   "metadata": {},
   "source": [
    "### LLCI,  $\\epsilon=25$ - Classification"
   ]
  },
  {
   "cell_type": "code",
   "execution_count": 4,
   "metadata": {},
   "outputs": [],
   "source": [
    "# Find original classification class\n",
    "P, R = classification(orig, model_name = 'resnet18', sort = True, show=False)\n",
    "original_class = R[0,0]\n",
    "P, R = classification(adv, model_name = 'resnet18', sort = True, show=False)\n",
    "final_classes = R[0,0:5]\n",
    "# Create matrix to store values\n",
    "Confidence = np.ones([round((iterations-1)/100+1),6])\n",
    "Ranks_matrix = np.ones([round((iterations-1)/100+1),5])\n",
    "\n",
    "for i in range(round((iterations-1)/100+1)):\n",
    "    orig = cv2.imread(\"results/Adv_DIP/goldfish/LLCI_eps25/it_{}.png\".format(i*100))[..., ::-1]\n",
    "    orig = cv2.resize(orig, (256, 256))\n",
    "    img = orig.copy().astype(np.float32)\n",
    "    Probs, Ranks = classification(img, model_name = 'resnet18', sort = False, show = False)\n",
    "    Probs_np = torch_to_np(Probs)\n",
    "    Confidence[i,0] = Probs_np[original_class]\n",
    "    P , Ranking = Probs.sort(descending=True)\n",
    "    Ranking_np = torch_to_np(Ranking)\n",
    "    for j in range(5):\n",
    "        Confidence[i,j+1] = Probs_np[final_classes[j]]\n",
    "        Ranks_matrix[i,j] = Ranking_np[j]    "
   ]
  },
  {
   "cell_type": "markdown",
   "metadata": {},
   "source": [
    "### LLCI,  $\\epsilon=25$ - Plotting"
   ]
  },
  {
   "cell_type": "code",
   "execution_count": 5,
   "metadata": {},
   "outputs": [
    {
     "data": {
      "image/png": "[encoded data removed]",
      "text/plain": [
       "<Figure size 432x432 with 1 Axes>"
      ]
     },
     "metadata": {
      "needs_background": "light"
     },
     "output_type": "display_data"
    },
    {
     "name": "stdout",
     "output_type": "stream",
     "text": [
      "goldfish\n",
      "axolotl\n",
      "mushroom\n",
      "anemone fish\n",
      "sea slug\n"
     ]
    }
   ],
   "source": [
    "it = np.arange(0, iterations+99, 100)\n",
    "iters = round((iterations-1)/100+1)\n",
    "fig = plt.figure(figsize=(6, 6))\n",
    "plt.xlabel('DIP Iterations')\n",
    "plt.ylabel('Confidence of true class')\n",
    "plt.plot(it,Confidence)\n",
    "plt.show()\n",
    "\n",
    "# Save stuff\n",
    "fig.savefig('results/Adv_DIP/goldfish/LLCI_eps25/Graph_LLCI_eps25_full.png')\n",
    "np.savetxt('results/Adv_DIP/goldfish/LLCI_eps25/LLCI_eps25_full.txt', Confidence)\n",
    "np.savetxt('results/Adv_DIP/goldfish/LLCI_eps25/LLCI_eps25_ranks.txt', Ranks_matrix)\n",
    "for i in range(5):\n",
    "    print(classes[int(Ranks_matrix[-1,i])].split(',')[0])"
   ]
  },
  {
   "cell_type": "markdown",
   "metadata": {},
   "source": [
    "## FGSM, $\\epsilon=5$"
   ]
  },
  {
   "cell_type": "markdown",
   "metadata": {},
   "source": [
    "### FGSM,  $\\epsilon=5$ - Generation"
   ]
  },
  {
   "cell_type": "code",
   "execution_count": null,
   "metadata": {},
   "outputs": [],
   "source": [
    "adv, orig, pert = adversarial_examples('data/panda.jpg',model_name = 'resnet18', method='FGSM',eps=5, show=False)\n",
    "\n",
    "# Process image into the right format\n",
    "img = adv.copy().astype(np.float32)\n",
    "img /= 255.0\n",
    "inpt = np_to_torch(img.transpose(2,0,1))\n",
    "\n",
    "iterations = 10001\n",
    "output = DIP(inpt, save = True, save_path = 'results/Adv_DIP/FGSM_eps5', num_iter = iterations, PLOT = False)"
   ]
  },
  {
   "cell_type": "markdown",
   "metadata": {},
   "source": [
    "### FGSM,  $\\epsilon=5$ - Classification"
   ]
  },
  {
   "cell_type": "code",
   "execution_count": null,
   "metadata": {},
   "outputs": [],
   "source": [
    "# Find original classification class\n",
    "P, R = classification(orig, model_name = 'resnet18', sort = True, show=False)\n",
    "original_class = R[0,0]\n",
    "P, R = classification(adv, model_name = 'resnet18', sort = True, show=False)\n",
    "final_classes = R[0,0:5]\n",
    "# Create matrix to store values\n",
    "Confidence = np.ones([round((iterations-1)/100+1),6])\n",
    "Ranks_matrix = np.ones([round((iterations-1)/100+1),5])\n",
    "\n",
    "for i in range(round((iterations-1)/100+1)):\n",
    "    orig = cv2.imread(\"results/Adv_DIP/FGSM_eps5/it_{}.png\".format(i*100))[..., ::-1]\n",
    "    orig = cv2.resize(orig, (256, 256))\n",
    "    img = orig.copy().astype(np.float32)\n",
    "    Probs, Ranks = classification(img, model_name = 'resnet18', sort = False, show = False)\n",
    "    Probs_np = torch_to_np(Probs)\n",
    "    Confidence[i,0] = Probs_np[original_class]\n",
    "    P , Ranking = Probs.sort(descending=True)\n",
    "    Ranking_np = torch_to_np(Ranking)\n",
    "    for j in range(5):\n",
    "        Confidence[i,j+1] = Probs_np[final_classes[j]]\n",
    "        Ranks_matrix[i,j] = Ranking_np[j]    "
   ]
  },
  {
   "cell_type": "markdown",
   "metadata": {},
   "source": [
    "### FGSM,  $\\epsilon=5$ - Plotting"
   ]
  },
  {
   "cell_type": "code",
   "execution_count": null,
   "metadata": {},
   "outputs": [],
   "source": [
    "it = np.arange(0, iterations+99, 100)\n",
    "iters = round((iterations-1)/100+1)\n",
    "fig = plt.figure(figsize=(6, 6))\n",
    "plt.xlabel('DIP Iterations')\n",
    "plt.ylabel('Confidence of true class')\n",
    "plt.plot(it,Confidence)\n",
    "plt.show()\n",
    "\n",
    "# Save stuff\n",
    "fig.savefig('results/Adv_DIP/FGSM_eps5/Graph_FGSM_eps5_full.png')\n",
    "np.savetxt('results/Adv_DIP/FGSM_eps5/FGSM_eps5_full.txt', Confidence)\n",
    "np.savetxt('results/Adv_DIP/FGSM_eps5/FGSM_eps5_ranks.txt', Ranks_matrix)\n",
    "for i in range(5):\n",
    "    print(classes[int(Ranks_matrix[-1,i])].split(',')[0])"
   ]
  },
  {
   "cell_type": "markdown",
   "metadata": {},
   "source": [
    "## LCCI, $\\epsilon=5$"
   ]
  },
  {
   "cell_type": "markdown",
   "metadata": {},
   "source": [
    "### LLCI,  $\\epsilon=5$ - Generation"
   ]
  },
  {
   "cell_type": "code",
   "execution_count": null,
   "metadata": {},
   "outputs": [],
   "source": [
    "#Generating adversarial example\n",
    "adv, orig, pert = adversarial_examples('data/goldfish.jpg',model_name = 'resnet18', method='LLCI',eps=5, show=False)\n",
    "\n",
    "# Process image into the right format\n",
    "img = adv.copy().astype(np.float32)\n",
    "img /= 255.0\n",
    "inpt = np_to_torch(img.transpose(2,0,1))\n",
    "\n",
    "# Applying the Deep Image Prior for 10001 iterations and saving every 100\n",
    "iterations = 10001\n",
    "output = DIP(inpt, save = True, save_path = 'results/Adv_DIP/Complex_LLCI_eps5', num_iter = iterations, PLOT = False, arch = 'complex')"
   ]
  },
  {
   "cell_type": "markdown",
   "metadata": {},
   "source": [
    "### LLCI,  $\\epsilon=5$ - Generation"
   ]
  },
  {
   "cell_type": "code",
   "execution_count": 6,
   "metadata": {},
   "outputs": [
    {
     "name": "stdout",
     "output_type": "stream",
     "text": [
      "Number of params: 572827\n",
      "Starting optimization with ADAM\n"
     ]
    },
    {
     "name": "stderr",
     "output_type": "stream",
     "text": [
      "C:\\ProgramData\\Anaconda3\\lib\\site-packages\\torch\\nn\\modules\\upsampling.py:122: UserWarning: nn.Upsampling is deprecated. Use nn.functional.interpolate instead.\n",
      "  warnings.warn(\"nn.Upsampling is deprecated. Use nn.functional.interpolate instead.\")\n",
      "C:\\ProgramData\\Anaconda3\\lib\\site-packages\\torch\\nn\\functional.py:1961: UserWarning: Default upsampling behavior when mode=bilinear is changed to align_corners=False since 0.4.0. Please specify align_corners=True if the old behavior is desired. See the documentation of nn.Upsample for details.\n",
      "  \"See the documentation of nn.Upsample for details.\".format(mode))\n"
     ]
    },
    {
     "name": "stdout",
     "output_type": "stream",
     "text": [
      "DIP Iteration 10000    Loss 0.000336   PSNR_noisy: 34.7360\r"
     ]
    }
   ],
   "source": [
    "#Generating adversarial example\n",
    "adv, orig, pert = adversarial_examples('data/goldfish.jpg',model_name = 'resnet18', method='LLCI',eps=5, show=False)\n",
    "\n",
    "# Process image into the right format\n",
    "img = adv.copy().astype(np.float32)\n",
    "img /= 255.0\n",
    "inpt = np_to_torch(img.transpose(2,0,1))\n",
    "\n",
    "# Applying the Deep Image Prior for 10001 iterations and saving every 100\n",
    "iterations = 10001\n",
    "output = DIP(inpt, save = True, save_path = 'results/Adv_DIP/goldfish/LLCI_eps5', num_iter = iterations, PLOT = False)"
   ]
  },
  {
   "cell_type": "markdown",
   "metadata": {},
   "source": [
    "### LLCI,  $\\epsilon=5$ - Classification"
   ]
  },
  {
   "cell_type": "code",
   "execution_count": 7,
   "metadata": {},
   "outputs": [],
   "source": [
    "# Find original classification class\n",
    "P, R = classification(orig, model_name = 'resnet18', sort = True, show=False)\n",
    "original_class = R[0,0]\n",
    "P, R = classification(adv, model_name = 'resnet18', sort = True, show=False)\n",
    "final_classes = R[0,0:5]\n",
    "# Create matrix to store values\n",
    "Confidence = np.ones([round((iterations-1)/100+1),6])\n",
    "Ranks_matrix = np.ones([round((iterations-1)/100+1),5])\n",
    "\n",
    "for i in range(round((iterations-1)/100+1)):\n",
    "    orig = cv2.imread(\"results/Adv_DIP/goldfish/LLCI_eps5/it_{}.png\".format(i*100))[..., ::-1]\n",
    "    orig = cv2.resize(orig, (256, 256))\n",
    "    img = orig.copy().astype(np.float32)\n",
    "    Probs, Ranks = classification(img, model_name = 'resnet18', sort = False, show = False)\n",
    "    Probs_np = torch_to_np(Probs)\n",
    "    Confidence[i,0] = Probs_np[original_class]\n",
    "    P , Ranking = Probs.sort(descending=True)\n",
    "    Ranking_np = torch_to_np(Ranking)\n",
    "    for j in range(5):\n",
    "        Confidence[i,j+1] = Probs_np[final_classes[j]]\n",
    "        Ranks_matrix[i,j] = Ranking_np[j]  "
   ]
  },
  {
   "cell_type": "markdown",
   "metadata": {},
   "source": [
    "### LLCI,  $\\epsilon=5$ - Plotting"
   ]
  },
  {
   "cell_type": "code",
   "execution_count": 8,
   "metadata": {},
   "outputs": [
    {
     "data": {
      "image/png": "[encoded data removed]",
      "text/plain": [
       "<Figure size 432x432 with 1 Axes>"
      ]
     },
     "metadata": {
      "needs_background": "light"
     },
     "output_type": "display_data"
    },
    {
     "name": "stdout",
     "output_type": "stream",
     "text": [
      "goldfish\n",
      "axolotl\n",
      "sea slug\n",
      "anemone fish\n",
      "American chameleon\n"
     ]
    }
   ],
   "source": [
    "it = np.arange(0, iterations+99, 100)\n",
    "iters = round((iterations-1)/100+1)\n",
    "fig = plt.figure(figsize=(6, 6))\n",
    "plt.xlabel('DIP Iterations')\n",
    "plt.ylabel('Confidence of true class')\n",
    "plt.plot(it,Confidence)\n",
    "plt.show()\n",
    "\n",
    "# Save stuff\n",
    "fig.savefig('results/Adv_DIP/goldfish/LLCI_eps5/Graph_LLCI_eps5_full.png')\n",
    "np.savetxt('results/Adv_DIP/goldfish/LLCI_eps5/LLCI_eps5_full.txt', Confidence)\n",
    "np.savetxt('results/Adv_DIP/goldfish/LLCI_eps5/LLCI_eps5_ranks.txt', Ranks_matrix)\n",
    "for i in range(5):\n",
    "    print(classes[int(Ranks_matrix[-1,i])].split(',')[0])"
   ]
  },
  {
   "cell_type": "markdown",
   "metadata": {},
   "source": [
    "## FSGM, $\\epsilon=100$"
   ]
  },
  {
   "cell_type": "markdown",
   "metadata": {},
   "source": [
    "### FGSM,  $\\epsilon=100$ - Generation"
   ]
  },
  {
   "cell_type": "code",
   "execution_count": null,
   "metadata": {},
   "outputs": [],
   "source": [
    "adv, orig, pert = adversarial_examples('data/panda.jpg',model_name = 'resnet18', method='FGSM',eps=100, show=False)\n",
    "\n",
    "# Process image into the right format\n",
    "img = adv.copy().astype(np.float32)\n",
    "img /= 255.0\n",
    "inpt = np_to_torch(img.transpose(2,0,1))\n",
    "\n",
    "iterations = 10001\n",
    "output = DIP(inpt, save = True, save_path = 'results/Adv_DIP/FGSM_eps100', num_iter = iterations, PLOT = False)"
   ]
  },
  {
   "cell_type": "markdown",
   "metadata": {},
   "source": [
    "### FGSM,  $\\epsilon=100$ - Classification"
   ]
  },
  {
   "cell_type": "code",
   "execution_count": null,
   "metadata": {},
   "outputs": [],
   "source": [
    "# Find original classification class\n",
    "P, R = classification(orig, model_name = 'resnet18', sort = True, show=False)\n",
    "original_class = R[0,0]\n",
    "P, R = classification(adv, model_name = 'resnet18', sort = True, show=False)\n",
    "final_classes = R[0,0:5]\n",
    "# Create matrix to store values\n",
    "Confidence = np.ones([round((iterations-1)/100+1),6])\n",
    "Ranks_matrix = np.ones([round((iterations-1)/100+1),5])\n",
    "\n",
    "for i in range(round((iterations-1)/100+1)):\n",
    "    orig = cv2.imread(\"results/Adv_DIP/FGSM_eps100/it_{}.png\".format(i*100))[..., ::-1]\n",
    "    orig = cv2.resize(orig, (256, 256))\n",
    "    img = orig.copy().astype(np.float32)\n",
    "    Probs, Ranks = classification(img, model_name = 'resnet18', sort = False, show = False)\n",
    "    Probs_np = torch_to_np(Probs)\n",
    "    Confidence[i,0] = Probs_np[original_class]\n",
    "    P , Ranking = Probs.sort(descending=True)\n",
    "    Ranking_np = torch_to_np(Ranking)\n",
    "    for j in range(5):\n",
    "        Confidence[i,j+1] = Probs_np[final_classes[j]]\n",
    "        Ranks_matrix[i,j] = Ranking_np[j]    "
   ]
  },
  {
   "cell_type": "markdown",
   "metadata": {},
   "source": [
    "### FGSM,  $\\epsilon=100$ - Plotting"
   ]
  },
  {
   "cell_type": "code",
   "execution_count": null,
   "metadata": {},
   "outputs": [],
   "source": [
    "it = np.arange(0, iterations+99, 100)\n",
    "iters = round((iterations-1)/100+1)\n",
    "fig = plt.figure(figsize=(6, 6))\n",
    "plt.xlabel('DIP Iterations')\n",
    "plt.ylabel('Confidence of true class')\n",
    "plt.plot(it,Confidence)\n",
    "plt.show()\n",
    "\n",
    "# Save stuff\n",
    "fig.savefig('results/Adv_DIP/FGSM_eps100/Graph_FGSM_eps100_full.png')\n",
    "np.savetxt('results/Adv_DIP/FGSM_eps100/FGSM_eps100_full.txt', Confidence)\n",
    "np.savetxt('results/Adv_DIP/FGSM_eps100/FGSM_eps100_ranks.txt', Ranks_matrix)\n",
    "for i in range(5):\n",
    "    print(classes[int(Ranks_matrix[-1,i])].split(',')[0])"
   ]
  },
  {
   "cell_type": "markdown",
   "metadata": {},
   "source": [
    "## LLCI, $\\epsilon=100$"
   ]
  },
  {
   "cell_type": "markdown",
   "metadata": {},
   "source": [
    "### LLCI,  $\\epsilon=100$ - Generation"
   ]
  },
  {
   "cell_type": "code",
   "execution_count": 9,
   "metadata": {},
   "outputs": [
    {
     "name": "stdout",
     "output_type": "stream",
     "text": [
      "Number of params: 572827\n",
      "Starting optimization with ADAM\n"
     ]
    },
    {
     "name": "stderr",
     "output_type": "stream",
     "text": [
      "C:\\ProgramData\\Anaconda3\\lib\\site-packages\\torch\\nn\\modules\\upsampling.py:122: UserWarning: nn.Upsampling is deprecated. Use nn.functional.interpolate instead.\n",
      "  warnings.warn(\"nn.Upsampling is deprecated. Use nn.functional.interpolate instead.\")\n",
      "C:\\ProgramData\\Anaconda3\\lib\\site-packages\\torch\\nn\\functional.py:1961: UserWarning: Default upsampling behavior when mode=bilinear is changed to align_corners=False since 0.4.0. Please specify align_corners=True if the old behavior is desired. See the documentation of nn.Upsample for details.\n",
      "  \"See the documentation of nn.Upsample for details.\".format(mode))\n"
     ]
    },
    {
     "name": "stdout",
     "output_type": "stream",
     "text": [
      "DIP Iteration 10000    Loss 0.000414   PSNR_noisy: 33.8267\r"
     ]
    }
   ],
   "source": [
    "#Generating adversarial example\n",
    "adv, orig, pert = adversarial_examples('data/goldfish.jpg',model_name = 'resnet18', method='LLCI',eps=100, show=False)\n",
    "\n",
    "# Process image into the right format\n",
    "img = adv.copy().astype(np.float32)\n",
    "img /= 255.0\n",
    "inpt = np_to_torch(img.transpose(2,0,1))\n",
    "\n",
    "# Applying the Deep Image Prior for 10001 iterations and saving every 100\n",
    "iterations = 10001\n",
    "output = DIP(inpt, save = True, save_path = 'results/Adv_DIP/goldfish/LLCI_eps100', num_iter = iterations, PLOT = False)"
   ]
  },
  {
   "cell_type": "markdown",
   "metadata": {},
   "source": [
    "### FGSM,  $\\epsilon=100$ - Classification"
   ]
  },
  {
   "cell_type": "code",
   "execution_count": 10,
   "metadata": {},
   "outputs": [],
   "source": [
    "# Find original classification class\n",
    "P, R = classification(orig, model_name = 'resnet18', sort = True, show=False)\n",
    "original_class = R[0,0]\n",
    "P, R = classification(adv, model_name = 'resnet18', sort = True, show=False)\n",
    "final_classes = R[0,0:5]\n",
    "# Create matrix to store values\n",
    "Confidence = np.ones([round((iterations-1)/100+1),6])\n",
    "Ranks_matrix = np.ones([round((iterations-1)/100+1),5])\n",
    "\n",
    "for i in range(round((iterations-1)/100+1)):\n",
    "    orig = cv2.imread(\"results/Adv_DIP/goldfish/LLCI_eps100/it_{}.png\".format(i*100))[..., ::-1]\n",
    "    orig = cv2.resize(orig, (256, 256))\n",
    "    img = orig.copy().astype(np.float32)\n",
    "    Probs, Ranks = classification(img, model_name = 'resnet18', sort = False, show = False)\n",
    "    Probs_np = torch_to_np(Probs)\n",
    "    Confidence[i,0] = Probs_np[original_class]\n",
    "    P , Ranking = Probs.sort(descending=True)\n",
    "    Ranking_np = torch_to_np(Ranking)\n",
    "    for j in range(5):\n",
    "        Confidence[i,j+1] = Probs_np[final_classes[j]]\n",
    "        Ranks_matrix[i,j] = Ranking_np[j]  "
   ]
  },
  {
   "cell_type": "markdown",
   "metadata": {},
   "source": [
    "### FGSM,  $\\epsilon=100$ - Plotting"
   ]
  },
  {
   "cell_type": "code",
   "execution_count": 11,
   "metadata": {},
   "outputs": [
    {
     "data": {
      "image/png": "[encoded data removed]",
      "text/plain": [
       "<Figure size 432x432 with 1 Axes>"
      ]
     },
     "metadata": {
      "needs_background": "light"
     },
     "output_type": "display_data"
    },
    {
     "name": "stdout",
     "output_type": "stream",
     "text": [
      "goldfish\n",
      "frilled lizard\n",
      "conch\n",
      "American chameleon\n",
      "mushroom\n"
     ]
    }
   ],
   "source": [
    "it = np.arange(0, iterations+99, 100)\n",
    "iters = round((iterations-1)/100+1)\n",
    "fig = plt.figure(figsize=(6, 6))\n",
    "plt.xlabel('DIP Iterations')\n",
    "plt.ylabel('Confidence of true class')\n",
    "plt.plot(it,Confidence)\n",
    "plt.show()\n",
    "\n",
    "# Save stuff\n",
    "fig.savefig('results/Adv_DIP/goldfish/LLCI_eps100/Graph_LLCI_eps100_full.png')\n",
    "np.savetxt('results/Adv_DIP/goldfish/LLCI_eps100/LLCI_eps100_full.txt', Confidence)\n",
    "np.savetxt('results/Adv_DIP/goldfish/LLCI_eps100/LLCI_eps100_ranks.txt', Ranks_matrix)\n",
    "for i in range(5):\n",
    "    print(classes[int(Ranks_matrix[-1,i])].split(',')[0])"
   ]
  },
  {
   "cell_type": "markdown",
   "metadata": {},
   "source": [
    "## Basic Iterative method\n",
    "\n",
    "Will try for $\\epsilon = [5, 25, 100]$."
   ]
  },
  {
   "cell_type": "markdown",
   "metadata": {},
   "source": [
    "### Starting with eps=5"
   ]
  },
  {
   "cell_type": "code",
   "execution_count": 12,
   "metadata": {},
   "outputs": [
    {
     "name": "stdout",
     "output_type": "stream",
     "text": [
      "Number of params: 572827\n",
      "Starting optimization with ADAM\n"
     ]
    },
    {
     "name": "stderr",
     "output_type": "stream",
     "text": [
      "C:\\ProgramData\\Anaconda3\\lib\\site-packages\\torch\\nn\\modules\\upsampling.py:122: UserWarning: nn.Upsampling is deprecated. Use nn.functional.interpolate instead.\n",
      "  warnings.warn(\"nn.Upsampling is deprecated. Use nn.functional.interpolate instead.\")\n",
      "C:\\ProgramData\\Anaconda3\\lib\\site-packages\\torch\\nn\\functional.py:1961: UserWarning: Default upsampling behavior when mode=bilinear is changed to align_corners=False since 0.4.0. Please specify align_corners=True if the old behavior is desired. See the documentation of nn.Upsample for details.\n",
      "  \"See the documentation of nn.Upsample for details.\".format(mode))\n"
     ]
    },
    {
     "name": "stdout",
     "output_type": "stream",
     "text": [
      "DIP Iteration 10000    Loss 0.000335   PSNR_noisy: 34.7551\r"
     ]
    }
   ],
   "source": [
    "#Generating adversarial example\n",
    "adv, orig, pert = adversarial_examples('data/goldfish.jpg',model_name = 'resnet18', method='BI',eps=5, show=False)\n",
    "\n",
    "# Process image into the right format\n",
    "img = adv.copy().astype(np.float32)\n",
    "img /= 255.0\n",
    "inpt = np_to_torch(img.transpose(2,0,1))\n",
    "\n",
    "# Applying the Deep Image Prior for 10001 iterations and saving every 100\n",
    "iterations = 10001\n",
    "output = DIP(inpt, save = True, save_path = 'results/Adv_DIP/goldfish/BI_eps5', num_iter = iterations, PLOT = False)"
   ]
  },
  {
   "cell_type": "code",
   "execution_count": 13,
   "metadata": {},
   "outputs": [],
   "source": [
    "# Find original classification class\n",
    "P, R = classification(orig, model_name = 'resnet18', sort = True, show=False)\n",
    "original_class = R[0,0]\n",
    "P, R = classification(adv, model_name = 'resnet18', sort = True, show=False)\n",
    "final_classes = R[0,0:5]\n",
    "# Create matrix to store values\n",
    "Confidence = np.ones([round((iterations-1)/100+1),6])\n",
    "Ranks_matrix = np.ones([round((iterations-1)/100+1),5])\n",
    "\n",
    "for i in range(round((iterations-1)/100+1)):\n",
    "    orig = cv2.imread(\"results/Adv_DIP/goldfish/BI_eps5/it_{}.png\".format(i*100))[..., ::-1]\n",
    "    orig = cv2.resize(orig, (256, 256))\n",
    "    img = orig.copy().astype(np.float32)\n",
    "    Probs, Ranks = classification(img, model_name = 'resnet18', sort = False, show = False)\n",
    "    Probs_np = torch_to_np(Probs)\n",
    "    Confidence[i,0] = Probs_np[original_class]\n",
    "    P , Ranking = Probs.sort(descending=True)\n",
    "    Ranking_np = torch_to_np(Ranking)\n",
    "    for j in range(5):\n",
    "        Confidence[i,j+1] = Probs_np[final_classes[j]]\n",
    "        Ranks_matrix[i,j] = Ranking_np[j]  "
   ]
  },
  {
   "cell_type": "code",
   "execution_count": 14,
   "metadata": {},
   "outputs": [
    {
     "data": {
      "image/png": "[encoded data removed]",
      "text/plain": [
       "<Figure size 432x432 with 1 Axes>"
      ]
     },
     "metadata": {
      "needs_background": "light"
     },
     "output_type": "display_data"
    },
    {
     "name": "stdout",
     "output_type": "stream",
     "text": [
      "goldfish\n",
      "axolotl\n",
      "American chameleon\n",
      "sea slug\n",
      "eft\n"
     ]
    }
   ],
   "source": [
    "it = np.arange(0, iterations+99, 100)\n",
    "iters = round((iterations-1)/100+1)\n",
    "fig = plt.figure(figsize=(6, 6))\n",
    "plt.xlabel('DIP Iterations')\n",
    "plt.ylabel('Confidence of true class')\n",
    "plt.plot(it,Confidence)\n",
    "plt.show()\n",
    "\n",
    "# Save stuff\n",
    "fig.savefig('results/Adv_DIP/goldfish/BI_eps5/Graph_BI_eps5_full.png')\n",
    "np.savetxt('results/Adv_DIP/goldfish/BI_eps5/BI_eps5_full.txt', Confidence)\n",
    "np.savetxt('results/Adv_DIP/goldfish/BI_eps5/BI_eps5_ranks.txt', Ranks_matrix)\n",
    "for i in range(5):\n",
    "    print(classes[int(Ranks_matrix[-1,i])].split(',')[0])"
   ]
  },
  {
   "cell_type": "markdown",
   "metadata": {},
   "source": [
    "### Starting with eps=25"
   ]
  },
  {
   "cell_type": "code",
   "execution_count": 15,
   "metadata": {},
   "outputs": [
    {
     "name": "stdout",
     "output_type": "stream",
     "text": [
      "Number of params: 572827\n",
      "Starting optimization with ADAM\n"
     ]
    },
    {
     "name": "stderr",
     "output_type": "stream",
     "text": [
      "C:\\ProgramData\\Anaconda3\\lib\\site-packages\\torch\\nn\\modules\\upsampling.py:122: UserWarning: nn.Upsampling is deprecated. Use nn.functional.interpolate instead.\n",
      "  warnings.warn(\"nn.Upsampling is deprecated. Use nn.functional.interpolate instead.\")\n",
      "C:\\ProgramData\\Anaconda3\\lib\\site-packages\\torch\\nn\\functional.py:1961: UserWarning: Default upsampling behavior when mode=bilinear is changed to align_corners=False since 0.4.0. Please specify align_corners=True if the old behavior is desired. See the documentation of nn.Upsample for details.\n",
      "  \"See the documentation of nn.Upsample for details.\".format(mode))\n"
     ]
    },
    {
     "name": "stdout",
     "output_type": "stream",
     "text": [
      "DIP Iteration 10000    Loss 0.000376   PSNR_noisy: 34.2465\r"
     ]
    }
   ],
   "source": [
    "#Generating adversarial example\n",
    "adv, orig, pert = adversarial_examples('data/goldfish.jpg',model_name = 'resnet18', method='BI',eps=25, show=False)\n",
    "\n",
    "# Process image into the right format\n",
    "img = adv.copy().astype(np.float32)\n",
    "img /= 255.0\n",
    "inpt = np_to_torch(img.transpose(2,0,1))\n",
    "\n",
    "# Applying the Deep Image Prior for 10001 iterations and saving every 100\n",
    "iterations = 10001\n",
    "output = DIP(inpt, save = True, save_path = 'results/Adv_DIP/goldfish/BI_eps25', num_iter = iterations, PLOT = False)"
   ]
  },
  {
   "cell_type": "code",
   "execution_count": 16,
   "metadata": {},
   "outputs": [],
   "source": [
    "# Find original classification class\n",
    "P, R = classification(orig, model_name = 'resnet18', sort = True, show=False)\n",
    "original_class = R[0,0]\n",
    "P, R = classification(adv, model_name = 'resnet18', sort = True, show=False)\n",
    "final_classes = R[0,0:5]\n",
    "# Create matrix to store values\n",
    "Confidence = np.ones([round((iterations-1)/100+1),6])\n",
    "Ranks_matrix = np.ones([round((iterations-1)/100+1),5])\n",
    "\n",
    "for i in range(round((iterations-1)/100+1)):\n",
    "    orig = cv2.imread(\"results/Adv_DIP/goldfish/BI_eps25/it_{}.png\".format(i*100))[..., ::-1]\n",
    "    orig = cv2.resize(orig, (256, 256))\n",
    "    img = orig.copy().astype(np.float32)\n",
    "    Probs, Ranks = classification(img, model_name = 'resnet18', sort = False, show = False)\n",
    "    Probs_np = torch_to_np(Probs)\n",
    "    Confidence[i,0] = Probs_np[original_class]\n",
    "    P , Ranking = Probs.sort(descending=True)\n",
    "    Ranking_np = torch_to_np(Ranking)\n",
    "    for j in range(5):\n",
    "        Confidence[i,j+1] = Probs_np[final_classes[j]]\n",
    "        Ranks_matrix[i,j] = Ranking_np[j]  "
   ]
  },
  {
   "cell_type": "code",
   "execution_count": 17,
   "metadata": {},
   "outputs": [
    {
     "data": {
      "image/png": "[encoded data removed]",
      "text/plain": [
       "<Figure size 432x432 with 1 Axes>"
      ]
     },
     "metadata": {
      "needs_background": "light"
     },
     "output_type": "display_data"
    },
    {
     "name": "stdout",
     "output_type": "stream",
     "text": [
      "goldfish\n",
      "American chameleon\n",
      "green lizard\n",
      "banded gecko\n",
      "tree frog\n"
     ]
    }
   ],
   "source": [
    "it = np.arange(0, iterations+99, 100)\n",
    "iters = round((iterations-1)/100+1)\n",
    "fig = plt.figure(figsize=(6, 6))\n",
    "plt.xlabel('DIP Iterations')\n",
    "plt.ylabel('Confidence of true class')\n",
    "plt.plot(it,Confidence)\n",
    "plt.show()\n",
    "\n",
    "# Save stuff\n",
    "fig.savefig('results/Adv_DIP/goldfish/BI_eps25/Graph_BI_eps25.png')\n",
    "np.savetxt('results/Adv_DIP/goldfish/BI_eps25/BI_eps25_full.txt', Confidence)\n",
    "np.savetxt('results/Adv_DIP/goldfish/BI_eps25/BI_eps25_ranks.txt', Ranks_matrix)\n",
    "for i in range(5):\n",
    "    print(classes[int(Ranks_matrix[-1,i])].split(',')[0])"
   ]
  },
  {
   "cell_type": "markdown",
   "metadata": {},
   "source": [
    "### Starting with eps=100"
   ]
  },
  {
   "cell_type": "code",
   "execution_count": 18,
   "metadata": {},
   "outputs": [
    {
     "name": "stdout",
     "output_type": "stream",
     "text": [
      "Number of params: 572827\n",
      "Starting optimization with ADAM\n"
     ]
    },
    {
     "name": "stderr",
     "output_type": "stream",
     "text": [
      "C:\\ProgramData\\Anaconda3\\lib\\site-packages\\torch\\nn\\modules\\upsampling.py:122: UserWarning: nn.Upsampling is deprecated. Use nn.functional.interpolate instead.\n",
      "  warnings.warn(\"nn.Upsampling is deprecated. Use nn.functional.interpolate instead.\")\n",
      "C:\\ProgramData\\Anaconda3\\lib\\site-packages\\torch\\nn\\functional.py:1961: UserWarning: Default upsampling behavior when mode=bilinear is changed to align_corners=False since 0.4.0. Please specify align_corners=True if the old behavior is desired. See the documentation of nn.Upsample for details.\n",
      "  \"See the documentation of nn.Upsample for details.\".format(mode))\n"
     ]
    },
    {
     "name": "stdout",
     "output_type": "stream",
     "text": [
      "DIP Iteration 10000    Loss 0.000444   PSNR_noisy: 33.5230\r"
     ]
    }
   ],
   "source": [
    "#Generating adversarial example\n",
    "adv, orig, pert = adversarial_examples('data/goldfish.jpg',model_name = 'resnet18', method='BI',eps=100, show=False)\n",
    "\n",
    "# Process image into the right format\n",
    "img = adv.copy().astype(np.float32)\n",
    "img /= 255.0\n",
    "inpt = np_to_torch(img.transpose(2,0,1))\n",
    "\n",
    "# Applying the Deep Image Prior for 10001 iterations and saving every 100\n",
    "iterations = 10001\n",
    "output = DIP(inpt, save = True, save_path = 'results/Adv_DIP/goldfish/BI_eps100', num_iter = iterations, PLOT = False)"
   ]
  },
  {
   "cell_type": "code",
   "execution_count": 19,
   "metadata": {},
   "outputs": [],
   "source": [
    "# Find original classification class\n",
    "P, R = classification(orig, model_name = 'resnet18', sort = True, show=False)\n",
    "original_class = R[0,0]\n",
    "P, R = classification(adv, model_name = 'resnet18', sort = True, show=False)\n",
    "final_classes = R[0,0:5]\n",
    "# Create matrix to store values\n",
    "Confidence = np.ones([round((iterations-1)/100+1),6])\n",
    "Ranks_matrix = np.ones([round((iterations-1)/100+1),5])\n",
    "\n",
    "for i in range(round((iterations-1)/100+1)):\n",
    "    orig = cv2.imread(\"results/Adv_DIP/goldfish/BI_eps100/it_{}.png\".format(i*100))[..., ::-1]\n",
    "    orig = cv2.resize(orig, (256, 256))\n",
    "    img = orig.copy().astype(np.float32)\n",
    "    Probs, Ranks = classification(img, model_name = 'resnet18', sort = False, show = False)\n",
    "    Probs_np = torch_to_np(Probs)\n",
    "    Confidence[i,0] = Probs_np[original_class]\n",
    "    P , Ranking = Probs.sort(descending=True)\n",
    "    Ranking_np = torch_to_np(Ranking)\n",
    "    for j in range(5):\n",
    "        Confidence[i,j+1] = Probs_np[final_classes[j]]\n",
    "        Ranks_matrix[i,j] = Ranking_np[j]  "
   ]
  },
  {
   "cell_type": "code",
   "execution_count": 20,
   "metadata": {},
   "outputs": [
    {
     "data": {
      "image/png": "[encoded data removed]",
      "text/plain": [
       "<Figure size 432x432 with 1 Axes>"
      ]
     },
     "metadata": {
      "needs_background": "light"
     },
     "output_type": "display_data"
    },
    {
     "name": "stdout",
     "output_type": "stream",
     "text": [
      "American chameleon\n",
      "green lizard\n",
      "African chameleon\n",
      "banded gecko\n",
      "frilled lizard\n"
     ]
    }
   ],
   "source": [
    "it = np.arange(0, iterations+99, 100)\n",
    "iters = round((iterations-1)/100+1)\n",
    "fig = plt.figure(figsize=(6, 6))\n",
    "plt.xlabel('DIP Iterations')\n",
    "plt.ylabel('Confidence of true class')\n",
    "plt.plot(it,Confidence)\n",
    "plt.show()\n",
    "\n",
    "# Save stuff\n",
    "fig.savefig('results/Adv_DIP/goldfish/BI_eps100/Graph_BI_eps100_full.png')\n",
    "np.savetxt('results/Adv_DIP/goldfish/BI_eps100/BI_eps100_full.txt', Confidence)\n",
    "np.savetxt('results/Adv_DIP/goldfish/BI_eps100/BI_eps100_ranks.txt', Ranks_matrix)\n",
    "for i in range(5):\n",
    "    print(classes[int(Ranks_matrix[-1,i])].split(',')[0])"
   ]
  },
  {
   "cell_type": "markdown",
   "metadata": {},
   "source": [
    "# Trying out more simple architectures"
   ]
  },
  {
   "cell_type": "markdown",
   "metadata": {},
   "source": [
    "Using a simple architecture Feature maps = 3 x 16 x 16 x 16"
   ]
  },
  {
   "cell_type": "code",
   "execution_count": 2,
   "metadata": {},
   "outputs": [
    {
     "name": "stdout",
     "output_type": "stream",
     "text": [
      "Number of params: 26575\n",
      "Starting optimization with ADAM\n"
     ]
    },
    {
     "name": "stderr",
     "output_type": "stream",
     "text": [
      "C:\\ProgramData\\Anaconda3\\lib\\site-packages\\torch\\nn\\modules\\upsampling.py:122: UserWarning: nn.Upsampling is deprecated. Use nn.functional.interpolate instead.\n",
      "  warnings.warn(\"nn.Upsampling is deprecated. Use nn.functional.interpolate instead.\")\n",
      "C:\\ProgramData\\Anaconda3\\lib\\site-packages\\torch\\nn\\functional.py:1961: UserWarning: Default upsampling behavior when mode=bilinear is changed to align_corners=False since 0.4.0. Please specify align_corners=True if the old behavior is desired. See the documentation of nn.Upsample for details.\n",
      "  \"See the documentation of nn.Upsample for details.\".format(mode))\n"
     ]
    },
    {
     "name": "stdout",
     "output_type": "stream",
     "text": [
      "DIP Iteration 10000    Loss 0.000414   PSNR_noisy: 33.8276\r"
     ]
    }
   ],
   "source": [
    "#Generating adversarial example\n",
    "adv, orig, pert = adversarial_examples('data/goldfish.jpg',model_name = 'resnet18', method='FGSM',eps=5, show=False)\n",
    "\n",
    "# Process image into the right format\n",
    "img = adv.copy().astype(np.float32)\n",
    "img /= 255.0\n",
    "inpt = np_to_torch(img.transpose(2,0,1))\n",
    "\n",
    "# Applying the Deep Image Prior for 10001 iterations and saving every 100\n",
    "iterations = 10001\n",
    "output = DIP(inpt, save = True, save_path = 'results/Adv_DIP/Simple_FGSM_5', num_iter=iterations, PLOT=False, arch='simple')"
   ]
  },
  {
   "cell_type": "code",
   "execution_count": 5,
   "metadata": {},
   "outputs": [],
   "source": [
    "# Find original classification class\n",
    "P, R = classification(orig, model_name = 'resnet18', sort = True, show=False)\n",
    "original_class = R[0,0]\n",
    "P, R = classification(adv, model_name = 'resnet18', sort = True, show=False)\n",
    "final_classes = R[0,0:5]\n",
    "\n",
    "# Create matrix to store values\n",
    "Confidence = np.ones([round((iterations-1)/100+1),6])\n",
    "Ranks_matrix = np.ones([round((iterations-1)/100+1),5])\n",
    "\n",
    "for i in range(round((iterations-1)/100+1)):\n",
    "    orig = cv2.imread(\"results/Adv_DIP/Simple_FGSM_5/it_{}.png\".format(i*100))[..., ::-1]\n",
    "    orig = cv2.resize(orig, (256, 256))\n",
    "    img = orig.copy().astype(np.float32)\n",
    "    Probs, Ranks = classification(img, model_name = 'resnet18', sort = False, show = False)\n",
    "    Probs_np = torch_to_np(Probs)\n",
    "    Confidence[i,0] = Probs_np[original_class]\n",
    "    P , Ranking = Probs.sort(descending=True)\n",
    "    Ranking_np = torch_to_np(Ranking)\n",
    "    for j in range(5):\n",
    "        Confidence[i,j+1] = Probs_np[final_classes[j]]\n",
    "        Ranks_matrix[i,j] = Ranking_np[j]  "
   ]
  },
  {
   "cell_type": "code",
   "execution_count": 11,
   "metadata": {},
   "outputs": [
    {
     "data": {
      "image/png": "[encoded data removed]",
      "text/plain": [
       "<Figure size 432x432 with 1 Axes>"
      ]
     },
     "metadata": {
      "needs_background": "light"
     },
     "output_type": "display_data"
    },
    {
     "name": "stdout",
     "output_type": "stream",
     "text": [
      "goldfish\n",
      "axolotl\n",
      "sea slug\n",
      "anemone fish\n",
      "eft\n"
     ]
    }
   ],
   "source": [
    "it = np.arange(0, iterations+99, 100)\n",
    "iters = round((iterations-1)/100+1)\n",
    "fig = plt.figure(figsize=(6, 6))\n",
    "plt.xlabel('DIP Iterations')\n",
    "plt.ylabel('Confidence of true class')\n",
    "plt.plot(it,Confidence)\n",
    "plt.show()\n",
    "\n",
    "# Save stuff\n",
    "fig.savefig('results/Adv_DIP/Simple_FGSM_5/Graph_Simple_FGSM_5_full.png')\n",
    "np.savetxt('results/Adv_DIP/Simple_FGSM_5/Simple_FGSM_5_full.txt', Confidence)\n",
    "np.savetxt('results/Adv_DIP/Simple_FGSM_5/Simple_FGSM_5_ranks.txt', Ranks_matrix)\n",
    "for i in range(5):\n",
    "    print(classes[int(Ranks_matrix[-1,i])].split(',')[0])"
   ]
  },
  {
   "cell_type": "code",
   "execution_count": 3,
   "metadata": {},
   "outputs": [
    {
     "name": "stdout",
     "output_type": "stream",
     "text": [
      "Number of params: 26575\n",
      "Starting optimization with ADAM\n"
     ]
    },
    {
     "name": "stderr",
     "output_type": "stream",
     "text": [
      "C:\\ProgramData\\Anaconda3\\lib\\site-packages\\torch\\nn\\modules\\upsampling.py:122: UserWarning: nn.Upsampling is deprecated. Use nn.functional.interpolate instead.\n",
      "  warnings.warn(\"nn.Upsampling is deprecated. Use nn.functional.interpolate instead.\")\n",
      "C:\\ProgramData\\Anaconda3\\lib\\site-packages\\torch\\nn\\functional.py:1961: UserWarning: Default upsampling behavior when mode=bilinear is changed to align_corners=False since 0.4.0. Please specify align_corners=True if the old behavior is desired. See the documentation of nn.Upsample for details.\n",
      "  \"See the documentation of nn.Upsample for details.\".format(mode))\n"
     ]
    },
    {
     "name": "stdout",
     "output_type": "stream",
     "text": [
      "DIP Iteration 10000    Loss 0.000751   PSNR_noisy: 31.2436\r"
     ]
    }
   ],
   "source": [
    "#Generating adversarial example\n",
    "adv, orig, pert = adversarial_examples('data/goldfish.jpg',model_name = 'resnet18', method='FGSM',eps=25, show=False)\n",
    "\n",
    "# Process image into the right format\n",
    "img = adv.copy().astype(np.float32)\n",
    "img /= 255.0\n",
    "inpt = np_to_torch(img.transpose(2,0,1))\n",
    "\n",
    "# Applying the Deep Image Prior for 10001 iterations and saving every 100\n",
    "iterations = 10001\n",
    "output = DIP(inpt, save = True, save_path = 'results/Adv_DIP/Simple_FGSM_25', num_iter=iterations, PLOT=False, arch='simple')"
   ]
  },
  {
   "cell_type": "code",
   "execution_count": 12,
   "metadata": {},
   "outputs": [],
   "source": [
    "# Find original classification class\n",
    "P, R = classification(orig, model_name = 'resnet18', sort = True, show=False)\n",
    "original_class = R[0,0]\n",
    "P, R = classification(adv, model_name = 'resnet18', sort = True, show=False)\n",
    "final_classes = R[0,0:5]\n",
    "\n",
    "# Create matrix to store values\n",
    "Confidence = np.ones([round((iterations-1)/100+1),6])\n",
    "Ranks_matrix = np.ones([round((iterations-1)/100+1),5])\n",
    "\n",
    "for i in range(round((iterations-1)/100+1)):\n",
    "    orig = cv2.imread(\"results/Adv_DIP/Simple_FGSM_25/it_{}.png\".format(i*100))[..., ::-1]\n",
    "    orig = cv2.resize(orig, (256, 256))\n",
    "    img = orig.copy().astype(np.float32)\n",
    "    Probs, Ranks = classification(img, model_name = 'resnet18', sort = False, show = False)\n",
    "    Probs_np = torch_to_np(Probs)\n",
    "    Confidence[i,0] = Probs_np[original_class]\n",
    "    P , Ranking = Probs.sort(descending=True)\n",
    "    Ranking_np = torch_to_np(Ranking)\n",
    "    for j in range(5):\n",
    "        Confidence[i,j+1] = Probs_np[final_classes[j]]\n",
    "        Ranks_matrix[i,j] = Ranking_np[j]  "
   ]
  },
  {
   "cell_type": "code",
   "execution_count": 13,
   "metadata": {},
   "outputs": [
    {
     "data": {
      "image/png": "[encoded data removed]",
      "text/plain": [
       "<Figure size 432x432 with 1 Axes>"
      ]
     },
     "metadata": {
      "needs_background": "light"
     },
     "output_type": "display_data"
    },
    {
     "name": "stdout",
     "output_type": "stream",
     "text": [
      "goldfish\n",
      "sea slug\n",
      "eft\n",
      "American chameleon\n",
      "coral fungus\n"
     ]
    }
   ],
   "source": [
    "it = np.arange(0, iterations+99, 100)\n",
    "iters = round((iterations-1)/100)\n",
    "fig = plt.figure(figsize=(6, 6))\n",
    "plt.xlabel('DIP Iterations')\n",
    "plt.ylabel('Confidence of true class')\n",
    "plt.plot(it,Confidence)\n",
    "plt.show()\n",
    "\n",
    "# Save stuff\n",
    "fig.savefig('results/Adv_DIP/Simple_FGSM_25/Graph_Simple_FGSM_25_full.png')\n",
    "np.savetxt('results/Adv_DIP/Simple_FGSM_25/Simple_FGSM_25_full.txt', Confidence)\n",
    "np.savetxt('results/Adv_DIP/Simple_FGSM_25/Simple_FGSM_25_ranks.txt', Ranks_matrix)\n",
    "for i in range(5):\n",
    "    print(classes[int(Ranks_matrix[-1,i])].split(',')[0])"
   ]
  },
  {
   "cell_type": "code",
   "execution_count": 4,
   "metadata": {},
   "outputs": [
    {
     "name": "stdout",
     "output_type": "stream",
     "text": [
      "Number of params: 26575\n",
      "Starting optimization with ADAM\n"
     ]
    },
    {
     "name": "stderr",
     "output_type": "stream",
     "text": [
      "C:\\ProgramData\\Anaconda3\\lib\\site-packages\\torch\\nn\\modules\\upsampling.py:122: UserWarning: nn.Upsampling is deprecated. Use nn.functional.interpolate instead.\n",
      "  warnings.warn(\"nn.Upsampling is deprecated. Use nn.functional.interpolate instead.\")\n",
      "C:\\ProgramData\\Anaconda3\\lib\\site-packages\\torch\\nn\\functional.py:1961: UserWarning: Default upsampling behavior when mode=bilinear is changed to align_corners=False since 0.4.0. Please specify align_corners=True if the old behavior is desired. See the documentation of nn.Upsample for details.\n",
      "  \"See the documentation of nn.Upsample for details.\".format(mode))\n"
     ]
    },
    {
     "name": "stdout",
     "output_type": "stream",
     "text": [
      "DIP Iteration 10000    Loss 0.004790   PSNR_noisy: 23.1968\r"
     ]
    }
   ],
   "source": [
    "#Generating adversarial example\n",
    "adv, orig, pert = adversarial_examples('data/goldfish.jpg',model_name = 'resnet18', method='FGSM',eps=100, show=False)\n",
    "\n",
    "# Process image into the right format\n",
    "img = adv.copy().astype(np.float32)\n",
    "img /= 255.0\n",
    "inpt = np_to_torch(img.transpose(2,0,1))\n",
    "\n",
    "# Applying the Deep Image Prior for 10001 iterations and saving every 100\n",
    "itn = 10001\n",
    "output = DIP(inpt, save = True, save_path = 'results/Adv_DIP/Simple_FGSM_100', num_iter=itn, PLOT=False, arch='simple')"
   ]
  },
  {
   "cell_type": "code",
   "execution_count": 14,
   "metadata": {},
   "outputs": [],
   "source": [
    "# Find original classification class\n",
    "P, R = classification(orig, model_name = 'resnet18', sort = True, show=False)\n",
    "original_class = R[0,0]\n",
    "P, R = classification(adv, model_name = 'resnet18', sort = True, show=False)\n",
    "final_classes = R[0,0:5]\n",
    "\n",
    "# Create matrix to store values\n",
    "Confidence = np.ones([round((iterations-1)/100+1),6])\n",
    "Ranks_matrix = np.ones([round((iterations-1)/100+1),5])\n",
    "\n",
    "for i in range(round((iterations-1)/100+1)):\n",
    "    orig = cv2.imread(\"results/Adv_DIP/Simple_FGSM_100/it_{}.png\".format(i*100))[..., ::-1]\n",
    "    orig = cv2.resize(orig, (256, 256))\n",
    "    img = orig.copy().astype(np.float32)\n",
    "    Probs, Ranks = classification(img, model_name = 'resnet18', sort = False, show = False)\n",
    "    Probs_np = torch_to_np(Probs)\n",
    "    Confidence[i,0] = Probs_np[original_class]\n",
    "    P , Ranking = Probs.sort(descending=True)\n",
    "    Ranking_np = torch_to_np(Ranking)\n",
    "    for j in range(5):\n",
    "        Confidence[i,j+1] = Probs_np[final_classes[j]]\n",
    "        Ranks_matrix[i,j] = Ranking_np[j]  "
   ]
  },
  {
   "cell_type": "code",
   "execution_count": 15,
   "metadata": {},
   "outputs": [
    {
     "data": {
      "image/png": "[encoded data removed]",
      "text/plain": [
       "<Figure size 432x432 with 1 Axes>"
      ]
     },
     "metadata": {
      "needs_background": "light"
     },
     "output_type": "display_data"
    },
    {
     "name": "stdout",
     "output_type": "stream",
     "text": [
      "coral fungus\n",
      "starfish\n",
      "sea slug\n",
      "earthstar\n",
      "anemone fish\n"
     ]
    }
   ],
   "source": [
    "it = np.arange(0, iterations+99, 100)\n",
    "iters = round((iterations-1)/100)\n",
    "fig = plt.figure(figsize=(6, 6))\n",
    "plt.xlabel('DIP Iterations')\n",
    "plt.ylabel('Confidence of true class')\n",
    "plt.plot(it,Confidence)\n",
    "plt.show()\n",
    "\n",
    "# Save stuff\n",
    "fig.savefig('results/Adv_DIP/Simple_FGSM_100/Graph_Simple_FGSM_100_full.png')\n",
    "np.savetxt('results/Adv_DIP/Simple_FGSM_100/Simple_FGSM_100_full.txt', Confidence)\n",
    "np.savetxt('results/Adv_DIP/Simple_FGSM_100/Simple_FGSM_100_ranks.txt', Ranks_matrix)\n",
    "for i in range(5):\n",
    "    print(classes[int(Ranks_matrix[-1,i])].split(',')[0])"
   ]
  },
  {
   "cell_type": "markdown",
   "metadata": {},
   "source": [
    "# Trying out more complex architectures"
   ]
  },
  {
   "cell_type": "markdown",
   "metadata": {},
   "source": [
    "The architecture investigated now, will be the default architecture used for the deep image prior. It is the same one that was used to denoise the F_16_GT image (natural image).\n",
    "\n",
    "We expect to have better results compared to the snail default architecture, in terms of DIP convergance"
   ]
  },
  {
   "cell_type": "code",
   "execution_count": null,
   "metadata": {},
   "outputs": [],
   "source": [
    "#Generating adversarial example\n",
    "adv, orig, pert = adversarial_examples('data/goldfish.jpg',model_name = 'resnet18', method='LLCI',eps=100, show=False)\n",
    "\n",
    "# Process image into the right format\n",
    "img = adv.copy().astype(np.float32)\n",
    "img /= 255.0\n",
    "inpt = np_to_torch(img.transpose(2,0,1))\n",
    "\n",
    "# Applying the Deep Image Prior for 10001 iterations and saving every 100\n",
    "itn = 10001\n",
    "output = DIP(inpt, save = True, save_path = 'results/Adv_DIP/Complex_LLCI_eps5', num_iter = itn, PLOT = False, arch = 'complex')"
   ]
  },
  {
   "cell_type": "code",
   "execution_count": null,
   "metadata": {},
   "outputs": [],
   "source": [
    "# Find original classification class\n",
    "P, R = classification(orig, model_name = 'resnet18', sort = True, show=False)\n",
    "original_class = R[0,0]\n",
    "P, R = classification(adv, model_name = 'resnet18', sort = True, show=False)\n",
    "final_classes = R[0,0:5]\n",
    "\n",
    "# Create matrix to store values\n",
    "Confidence = np.ones([round((iterations-1)/100+1),6])\n",
    "Ranks_matrix = np.ones([round((iterations-1)/100+1),5])\n",
    "\n",
    "for i in range(round((iterations-1)/100+1)):\n",
    "    orig = cv2.imread(\"results/Adv_DIP/Complex_LLCI_eps5/it_{}.png\".format(i*100))[..., ::-1]\n",
    "    orig = cv2.resize(orig, (256, 256))\n",
    "    img = orig.copy().astype(np.float32)\n",
    "    Probs, Ranks = classification(img, model_name = 'resnet18', sort = False, show = False)\n",
    "    Probs_np = torch_to_np(Probs)\n",
    "    Confidence[i,0] = Probs_np[original_class]\n",
    "    P , Ranking = Probs.sort(descending=True)\n",
    "    Ranking_np = torch_to_np(Ranking)\n",
    "    for j in range(5):\n",
    "        Confidence[i,j+1] = Probs_np[final_classes[j]]\n",
    "        Ranks_matrix[i,j] = Ranking_np[j]  "
   ]
  }
 ],
 "metadata": {
  "kernelspec": {
   "display_name": "Python 3",
   "language": "python",
   "name": "python3"
  },
  "language_info": {
   "codemirror_mode": {
    "name": "ipython",
    "version": 3
   },
   "file_extension": ".py",
   "mimetype": "text/x-python",
   "name": "python",
   "nbconvert_exporter": "python",
   "pygments_lexer": "ipython3",
   "version": "3.7.0"
  }
 },
 "nbformat": 4,
 "nbformat_minor": 2
}
