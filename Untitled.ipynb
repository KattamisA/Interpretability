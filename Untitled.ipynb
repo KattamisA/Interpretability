{
 "cells": [
  {
   "cell_type": "markdown",
   "metadata": {},
   "source": [
    "### Tests"
   ]
  },
  {
   "cell_type": "code",
   "execution_count": 12,
   "metadata": {},
   "outputs": [],
   "source": [
    "import matplotlib.pyplot as plt\n",
    "import cv2\n",
    "import numpy as np\n",
    "import torch.nn.functional as F\n",
    "from saliency import *\n",
    "from torchvision import models\n",
    "from functions.classification import classification\n",
    "from functions.utils.common_utils import *\n",
    "from functions.integrated_gradients import *\n",
    "from functions.Visualization_library import *\n"
   ]
  },
  {
   "cell_type": "code",
   "execution_count": 13,
   "metadata": {},
   "outputs": [],
   "source": [
    "def integrated_gradients( inp,target_label_index,predictions_and_gradients,baseline= None,\n",
    "    steps=50):\n",
    "    \n",
    "  if baseline is None:\n",
    "    baseline = 0.5 * inp\n",
    "  assert (baseline.shape == inp.shape)\n",
    "\n",
    "  # Scale input and compute gradients.\n",
    "  scaled_inputs = [baseline + (float(i) / steps) * (inp - baseline) for i in range(0, steps + 1)]\n",
    "  predictions, grads = predictions_and_gradients(scaled_inputs, target_label_index)\n",
    "  avg_grads = np.average(grads[:-1], axis=0)\n",
    "  integrated_gradients = (inp - baseline) * avg_grads  # shape: <inp.shape>\n",
    "  #integrated_gradients = np.clip(integrated_gradients, 0, 255).astype(np.uint8)\n",
    "\n",
    "  return integrated_gradients, predictions\n",
    "\n",
    "\n",
    "def random_baseline_integrated_gradients(inp,target_label_index,\n",
    "        predictions_and_gradients, steps=50, num_random_trials=10):\n",
    "    \n",
    "  all_intgrads = []\n",
    "  for i in range(num_random_trials):\n",
    "    intgrads, prediction_trend = integrated_gradients(\n",
    "      inp,\n",
    "      target_label_index=target_label_index,\n",
    "      predictions_and_gradients=predictions_and_gradients,\n",
    "      baseline=255.0 * np.random.random([224, 224, 3]),\n",
    "      steps=steps)\n",
    "    all_intgrads.append(intgrads)\n",
    "  avg_intgrads = np.average(np.array(all_intgrads), axis=0)\n",
    "\n",
    "  return avg_intgrads"
   ]
  },
  {
   "cell_type": "code",
   "execution_count": 18,
   "metadata": {},
   "outputs": [],
   "source": [
    "def model(img, target_class_index, model_name='resnet18'):\n",
    "    criterion = torch.nn.CrossEntropyLoss() # .cuda()\n",
    "    net = getattr(models, model_name)(pretrained=True)\n",
    "\n",
    "    inp = np.asarray(img)\n",
    "    predictions =np.ones([51,1000])\n",
    "    grads = np.ones([51,224,224,3])\n",
    "    net.eval()#.cuda()\n",
    "\n",
    "\n",
    "    for i in range(inp.shape[0]):\n",
    "        single_inp_init = inp[1,:,:,:]\n",
    "        single_inp = single_inp_init.reshape(224,224,3)\n",
    "        print('Iteration [{}/51]'.format(i+1), end='\\r')\n",
    "        p, _ = classification(single_inp, model_name, show=False)\n",
    "        mean = [0.485, 0.456, 0.406]\n",
    "        std = [0.229, 0.224, 0.225]\n",
    "        single_inp /= 255.0\n",
    "        single_inp = (single_inp - mean) / std\n",
    "        single_inp = single_inp.transpose(2, 0, 1)\n",
    "        predictions[i,:] = torch_to_np(p)\n",
    "\n",
    "        input = Variable(torch.from_numpy(single_inp).float().unsqueeze(0), requires_grad=True)\n",
    "\n",
    "        output = net(input)\n",
    "        output = F.softmax(output, dim=1)\n",
    "        index = np.ones((output.size()[0], 1)) * target_class_index\n",
    "        index = torch.tensor(index, dtype=torch.int64)\n",
    "        output = output.gather(1, index)\n",
    "        net.zero_grad()\n",
    "        output.backward()\n",
    "\n",
    "        grads_np = np.reshape(torch_to_np(input.grad.data), [3,224,224])\n",
    "        grads_np = grads_np.transpose(1, 2, 0)\n",
    "        grads_np = (grads_np * std) + mean\n",
    "        grads_np = grads_np * 255.0\n",
    "        grads[i,:,:,:] = grads_np\n",
    "\n",
    "    return predictions, grads\n",
    "\n",
    "\n",
    "def generate_saliency_maps(path, orig, num_iter, model_name='resnet18', method='Integrated Gradient'):\n",
    "\n",
    "    p, r = classification(orig, model_name='resnet18', sort=True, show=False)\n",
    "    original_class = r.detach().numpy()[0,0]\n",
    "    original_class=original_class.astype(np.int16)\n",
    "    #num_images = int((num_iter-1)/100 + 1)\n",
    "    num_images = 1\n",
    "\n",
    "    for i in range(num_images):\n",
    "        #loaded_image = cv2.imread('{}/it_{}.png'.format(path,i*100))[..., ::-1]\n",
    "        loaded_image = cv2.imread('data/peacock.jpg')[..., ::-1]\n",
    "        if model_name == 'inception_v3':\n",
    "            loaded_image = cv2.resize(loaded_image, (300, 300))\n",
    "        else:        \n",
    "            loaded_image = cv2.resize(loaded_image, (224, 224))\n",
    "        img = loaded_image.copy().astype(np.float32)\n",
    "        #img /= 255.0\n",
    "\n",
    "        print(\"\\n\\nNew image\")\n",
    "        saliency_map, predictions = integrated_gradients(img, original_class, model)\n",
    "        saliency_map2 = Visualize(saliency_map, img, clip_above_percentile=99, clip_below_percentile=1,\n",
    "                                           overlay=False, plot_distribution=False)\n",
    "        saliency_map = np.clip(saliency_map, 0, 255).astype(np.uint8)\n",
    "        saliency_map2 = np.clip(saliency_map2, 0, 255).astype(np.uint8)\n",
    "        #plt.imsave(\"test1.png\", saliency_map, format=\"png\")\n",
    "        #plt.imsave(\"test2.png\", saliency_map2, format=\"png\")\n",
    "        fig=plt.figure(figsize=(8, 8))\n",
    "        fig.add_subplot(1, 2, 1)\n",
    "        plt.imshow(saliency_map)\n",
    "        fig.add_subplot(1, 2, 2)\n",
    "        plt.imshow(saliency_map2)\n",
    "        plt.show()\n",
    "        #plt.imsave(\"{}/sal_it_{}.png\".format(path, i*100), saliency_map, format=\"png\")\n",
    "\n",
    "    print('Salency maps generated and stored in {}'.format(path))"
   ]
  },
  {
   "cell_type": "code",
   "execution_count": 19,
   "metadata": {},
   "outputs": [
    {
     "name": "stdout",
     "output_type": "stream",
     "text": [
      "\n",
      "\n",
      "New image\n",
      "Iteration [51/51]\r"
     ]
    },
    {
     "name": "stderr",
     "output_type": "stream",
     "text": [
      "C:\\Users\\Andreas\\Documents\\University of Cambridge - Engineering\\Engineering IIB\\4th year project\\VI. Code\\Interpretability\\functions\\Visualization_library.py:112: RuntimeWarning: divide by zero encountered in true_divide\n",
      "  transformed = (1 - low) * (np.abs(attributions) - e) / (m - e) + low\n",
      "C:\\Users\\Andreas\\Documents\\University of Cambridge - Engineering\\Engineering IIB\\4th year project\\VI. Code\\Interpretability\\functions\\Visualization_library.py:112: RuntimeWarning: invalid value encountered in true_divide\n",
      "  transformed = (1 - low) * (np.abs(attributions) - e) / (m - e) + low\n",
      "C:\\Users\\Andreas\\Documents\\University of Cambridge - Engineering\\Engineering IIB\\4th year project\\VI. Code\\Interpretability\\functions\\Visualization_library.py:118: RuntimeWarning: invalid value encountered in greater_equal\n",
      "  transformed *= (transformed >= low)\n",
      "C:\\Users\\Andreas\\Documents\\University of Cambridge - Engineering\\Engineering IIB\\4th year project\\VI. Code\\Interpretability\\functions\\Visualization_library.py:118: RuntimeWarning: invalid value encountered in multiply\n",
      "  transformed *= (transformed >= low)\n"
     ]
    },
    {
     "data": {
      "image/png": "[encoded data removed]",
      "text/plain": [
       "<Figure size 576x576 with 2 Axes>"
      ]
     },
     "metadata": {
      "needs_background": "light"
     },
     "output_type": "display_data"
    },
    {
     "name": "stdout",
     "output_type": "stream",
     "text": [
      "Salency maps generated and stored in results/Adv_DIP/Multiple_images/panda\n"
     ]
    }
   ],
   "source": [
    "images = ['peacock.jpg']\n",
    "for i in images:\n",
    "    orig = cv2.imread(\"data/{}\".format(i))[..., ::-1]\n",
    "    orig = cv2.resize(orig, (224, 224))\n",
    "    img = orig.copy().astype(np.float32)\n",
    "  \n",
    "generate_saliency_maps('results/Adv_DIP/Multiple_images/panda', img, 10001)\n",
    "#generate_saliency_maps('data', img, 10001)"
   ]
  },
  {
   "cell_type": "code",
   "execution_count": null,
   "metadata": {},
   "outputs": [],
   "source": []
  }
 ],
 "metadata": {
  "kernelspec": {
   "display_name": "Python 3",
   "language": "python",
   "name": "python3"
  },
  "language_info": {
   "codemirror_mode": {
    "name": "ipython",
    "version": 3
   },
   "file_extension": ".py",
   "mimetype": "text/x-python",
   "name": "python",
   "nbconvert_exporter": "python",
   "pygments_lexer": "ipython3",
   "version": "3.7.0"
  }
 },
 "nbformat": 4,
 "nbformat_minor": 2
}
