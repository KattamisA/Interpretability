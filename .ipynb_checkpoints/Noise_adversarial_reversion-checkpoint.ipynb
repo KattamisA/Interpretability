{
 "cells": [
  {
   "cell_type": "markdown",
   "metadata": {},
   "source": [
    "# Importing Libraries"
   ]
  },
  {
   "cell_type": "code",
   "execution_count": 3,
   "metadata": {},
   "outputs": [],
   "source": [
    "from functions.adversarial import *\n",
    "from functions.classification import *\n",
    "import cv2\n",
    "import numpy as np\n",
    "from utils import *"
   ]
  },
  {
   "cell_type": "markdown",
   "metadata": {},
   "source": [
    "# Adding noise to the adversarial examples\n",
    "\n",
    "This will test whether adding __normal random noise__ to the adversarial examples can revert them back to the original classification.\n",
    "\n",
    "We will loop over all values of epsilon for each method and a range for the noise standard deviation of $[0.1,0.2,...,128]$, ensuring we clip the adversarial examples such that the range of the final result is within $[0,256]$.\n",
    "\n",
    "We will observe how the confidence of the correct class changes."
   ]
  },
  {
   "cell_type": "markdown",
   "metadata": {},
   "source": [
    "## Fast Gradient Sign Method and ResNet18"
   ]
  },
  {
   "cell_type": "code",
   "execution_count": null,
   "metadata": {},
   "outputs": [
    {
     "name": "stdout",
     "output_type": "stream",
     "text": [
      "torch.Size([1, 1000])\n",
      "0\n",
      "1\n",
      "2\n",
      "3\n",
      "4\n",
      "5\n",
      "6\n",
      "7\n",
      "8\n",
      "9\n",
      "10\n",
      "11\n",
      "12\n",
      "13\n",
      "14\n",
      "15\n",
      "16\n",
      "17\n",
      "18\n",
      "19\n",
      "20\n",
      "21\n",
      "22\n",
      "23\n",
      "24\n",
      "25\n",
      "26\n",
      "27\n",
      "28\n",
      "29\n",
      "30\n",
      "31\n",
      "32\n",
      "33\n",
      "34\n",
      "35\n",
      "36\n",
      "37\n",
      "38\n",
      "39\n",
      "40\n"
     ]
    }
   ],
   "source": [
    "Matrix = np.ones([640,5])\n",
    "\n",
    "eps_values = [1, 5, 10, 50, 100]\n",
    "for i in range(5):\n",
    "    value = eps_values[i]\n",
    "    adv, orig, pert = adversarial_examples('data/goldfish.jpg',model_name = 'resnet18', method='FGSM',eps=value, show=False)\n",
    "    P, R = classification(orig, model_name = 'resnet18', sort = True, show=False)\n",
    "    print(R.shape)\n",
    "    original_class = R[0,1]\n",
    "    \n",
    "    for j in range(100):\n",
    "        std = j/10.0\n",
    "        adv_noisy = adv + std*np.random.randn(adv.shape[0],adv.shape[1],adv.shape[2])\n",
    "        P, R = classification(orig, model_name = 'resnet18', sort = True, show = False)\n",
    "        Matrix[j,i] = P[0,original_class]\n",
    "        print(j)\n",
    "    print(i)    "
   ]
  },
  {
   "cell_type": "code",
   "execution_count": null,
   "metadata": {},
   "outputs": [],
   "source": []
  }
 ],
 "metadata": {
  "kernelspec": {
   "display_name": "Python 3",
   "language": "python",
   "name": "python3"
  },
  "language_info": {
   "codemirror_mode": {
    "name": "ipython",
    "version": 3
   },
   "file_extension": ".py",
   "mimetype": "text/x-python",
   "name": "python",
   "nbconvert_exporter": "python",
   "pygments_lexer": "ipython3",
   "version": "3.7.0"
  }
 },
 "nbformat": 4,
 "nbformat_minor": 2
}
