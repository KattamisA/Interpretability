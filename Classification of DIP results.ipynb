{
 "cells": [
  {
   "cell_type": "code",
   "execution_count": 3,
   "metadata": {},
   "outputs": [],
   "source": [
    "from functions.adversarial import *\n",
    "from functions.classification import *\n",
    "import cv2\n",
    "import numpy as np\n",
    "from utils import *\n",
    "import matplotlib.pyplot as plt\n",
    "from functions.imagenet_classes import classes"
   ]
  },
  {
   "cell_type": "markdown",
   "metadata": {},
   "source": [
    "## Import images and classify"
   ]
  },
  {
   "cell_type": "code",
   "execution_count": 4,
   "metadata": {},
   "outputs": [],
   "source": [
    "adv, orig, pert = adversarial_examples(\"data/goldfish.jpg\",method = \"LLCI\",eps=100, num_iter=125,show=False)"
   ]
  },
  {
   "cell_type": "code",
   "execution_count": null,
   "metadata": {},
   "outputs": [],
   "source": [
    "# Set image path\n",
    "im_path = 'results/Adv_DIP/goldfish/Std_complex_16-64'\n",
    "original_class = 1  #1 is for goldfish\n",
    "P, R = classification(adv, model_name = 'resnet18', sort = True, show=False)\n",
    "final_classes = R[0,0:5]\n",
    "iterations = 9900\n",
    "\n",
    "Confidence = np.ones([round(iterations/100+1),6])\n",
    "Ranks_matrix = np.ones([round(iterations/100+1),5])\n",
    "\n",
    "for i in range(round(iterations/100+1)):\n",
    "    orig = cv2.imread('{}/it_{}.png'.format(im_path,i*100))[..., ::-1]\n",
    "    orig = cv2.resize(orig, (256, 256))\n",
    "    img = orig.copy().astype(np.float32)\n",
    "    Probs, Ranks = classification(img, model_name = 'resnet18', sort = False, show = False)\n",
    "    Probs_np = torch_to_np(Probs)\n",
    "    Confidence[i,0] = Probs_np[original_class]\n",
    "    P , Ranking = Probs.sort(descending=True)\n",
    "    Ranking_np = torch_to_np(Ranking)\n",
    "    for j in range(5):\n",
    "        Confidence[i,j+1] = Probs_np[final_classes[j]]\n",
    "        Ranks_matrix[i,j] = Ranking_np[j]\n",
    "        \n",
    "np.savetxt('{}/Confidences.txt'.format(im_path), Confidence)\n",
    "np.savetxt('{}/Ranks.txt'.format(im_path), Ranks_matrix)"
   ]
  },
  {
   "cell_type": "code",
   "execution_count": null,
   "metadata": {},
   "outputs": [],
   "source": []
  }
 ],
 "metadata": {
  "kernelspec": {
   "display_name": "Python 3",
   "language": "python",
   "name": "python3"
  },
  "language_info": {
   "codemirror_mode": {
    "name": "ipython",
    "version": 3
   },
   "file_extension": ".py",
   "mimetype": "text/x-python",
   "name": "python",
   "nbconvert_exporter": "python",
   "pygments_lexer": "ipython3",
   "version": "3.7.0"
  }
 },
 "nbformat": 4,
 "nbformat_minor": 2
}
