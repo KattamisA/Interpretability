{
 "cells": [
  {
   "cell_type": "markdown",
   "metadata": {},
   "source": [
    "# Importing Libraries"
   ]
  },
  {
   "cell_type": "code",
   "execution_count": null,
   "metadata": {},
   "outputs": [],
   "source": [
    "from functions.adversarial import *\n",
    "from functions.dip import *\n",
    "from functions.classification import *\n",
    "import matplotlib.pyplot as plt\n",
    "import cv2\n",
    "import numpy as np\n",
    "from functions.utils import *\n",
    "\n",
    "#device = torch.device(\"cuda\" if torch.cuda.device_count() else \"cpu\")"
   ]
  },
  {
   "cell_type": "markdown",
   "metadata": {},
   "source": [
    "# Fast Gradient Descent Method"
   ]
  },
  {
   "cell_type": "code",
   "execution_count": null,
   "metadata": {
    "scrolled": true
   },
   "outputs": [],
   "source": [
    "adv1, orig, pert = adversarial_examples('data/goldfish.jpg', method='FGSM',eps=100,show=False)"
   ]
  },
  {
   "cell_type": "markdown",
   "metadata": {},
   "source": [
    "# Basic Iterative Method"
   ]
  },
  {
   "cell_type": "code",
   "execution_count": null,
   "metadata": {},
   "outputs": [],
   "source": [
    "adv2, orig, pert = adversarial_examples('data/goldfish.jpg',method='BI',eps=100,show=False)"
   ]
  },
  {
   "cell_type": "markdown",
   "metadata": {},
   "source": [
    "# Least Likely Class Iterative"
   ]
  },
  {
   "cell_type": "code",
   "execution_count": null,
   "metadata": {
    "scrolled": false
   },
   "outputs": [],
   "source": [
    "adv3, orig, pert = adversarial_examples('data/goldfish.jpg',method='LLCI',eps=100,show=False)"
   ]
  },
  {
   "cell_type": "markdown",
   "metadata": {},
   "source": [
    "## Some plotting"
   ]
  },
  {
   "cell_type": "code",
   "execution_count": null,
   "metadata": {},
   "outputs": [],
   "source": [
    "fig=plt.figure(figsize=(16,16))\n",
    "\n",
    "fig.add_subplot(1, 3, 1)\n",
    "plt.title('FGSM')\n",
    "plt.imshow(adv1)\n",
    "\n",
    "fig.add_subplot(1, 3, 2)\n",
    "plt.title('BI')\n",
    "plt.imshow(adv2)\n",
    "\n",
    "fig.add_subplot(1, 3, 3)\n",
    "plt.title('LLCI')\n",
    "plt.imshow(adv3)\n",
    "\n",
    "plt.show()\n",
    "\n",
    "## Save images\n",
    "plt.imsave(\"results/Goldfish_fgsm_eps100.png\", adv1, format=\"png\")\n",
    "plt.imsave(\"results/Goldfish_bi_eps100.png\", adv2, format=\"png\")\n",
    "plt.imsave(\"results/Goldfish_llci_eps100.png\", adv3, format=\"png\")"
   ]
  },
  {
   "cell_type": "markdown",
   "metadata": {},
   "source": [
    "# Using Deep Image Prior"
   ]
  },
  {
   "cell_type": "code",
   "execution_count": null,
   "metadata": {},
   "outputs": [],
   "source": [
    "orig = cv2.imread(\"data/lighthouse.jpg\")[..., ::-1]\n",
    "orig = cv2.resize(orig, (256, 256))\n",
    "img = orig.copy().astype(np.float32)\n",
    "\n",
    "## Save images\n",
    "#plt.imsave(\"results/F16_noisy.png\", np.clip(img_noisy, 0, 1), format=\"png\")\n",
    "#plt.imsave(\"results/F16.png\", np.clip(img, 0, 1), format=\"png\")\n",
    "\n",
    "dip_out = dip(img, num_iter=10001, save=False, plot=False, save_path='results/Adv_DIP/', arch='complex')"
   ]
  },
  {
   "cell_type": "markdown",
   "metadata": {},
   "source": [
    "# Observing general images"
   ]
  },
  {
   "cell_type": "code",
   "execution_count": null,
   "metadata": {},
   "outputs": [],
   "source": [
    "i=20\n",
    "orig = cv2.imread(\"results/Adv_DIP/FGSM_eps100/it_{}.png\".format(i*100))[..., ::-1]\n",
    "orig = cv2.resize(orig, (256, 256))\n",
    "img = orig.copy().astype(np.float32)\n",
    "P,R = classification(img)\n",
    "plt.imshow(orig) "
   ]
  },
  {
   "cell_type": "code",
   "execution_count": null,
   "metadata": {},
   "outputs": [],
   "source": [
    "std = 150\n",
    "value = 100\n",
    "\n",
    "adv, orig, pert = adversarial_examples('data/goldfish.jpg',model_name = 'resnet18', method='FGSM',eps=value, show=False)\n",
    "adv_noisy = adv + std*np.random.randn(224,224,3)\n",
    "adv_noisy = np.clip(adv_noisy,0,255).astype(np.uint8)\n",
    "plt.imshow(adv_noisy)\n",
    "plt.show()"
   ]
  },
  {
   "cell_type": "code",
   "execution_count": null,
   "metadata": {},
   "outputs": [],
   "source": [
    "it_300 = cv2.imread(\"results/Adv_DIP/LLCI_eps5/it_{}.png\".format(300))[..., ::-1]\n",
    "it_1200 = cv2.imread(\"results/Adv_DIP/LLCI_eps5/it_{}.png\".format(1200))[..., ::-1]\n",
    "it_2500 = cv2.imread(\"results/Adv_DIP/LLCI_eps5/it_{}.png\".format(5000))[..., ::-1]\n",
    "orig = cv2.imread('data/panda.jpg')[...,::-1]\n",
    "\n",
    "P,R = classification(orig)\n",
    "P,R = classification(it_300)\n",
    "P,R = classification(it_1200)\n",
    "P,R = classification(it_2500)"
   ]
  },
  {
   "cell_type": "markdown",
   "metadata": {},
   "source": [
    "## Classifying"
   ]
  },
  {
   "cell_type": "code",
   "execution_count": null,
   "metadata": {},
   "outputs": [],
   "source": [
    "# Find original classification class\n",
    "iterations = 9101\n",
    "#adv, orig, pert = adversarial_examples('data/goldfish.jpg',model_name = 'resnet18', method='LLCI',eps=100, show=False)\n",
    "P, R = classification(orig, model_name = 'resnet18', sort = True, show=False)\n",
    "original_class = R[0,0]\n",
    "P, R = classification(adv, model_name = 'resnet18', sort = True, show=False)\n",
    "final_classes = R[0,0:5]\n",
    "\n",
    "# Create matrix to store values\n",
    "Confidence = np.ones([round((iterations-1)/100+1),6])\n",
    "Ranks_matrix = np.ones([round((iterations-1)/100+1),5])\n",
    "\n",
    "\n",
    "for i in range(round((iterations-1)/100+1)):\n",
    "    orig = cv2.imread(\"results/Adv_DIP/Complex_LLCI_eps5/it_{}.png\".format(i*100))[..., ::-1]\n",
    "    orig = cv2.resize(orig, (256, 256))\n",
    "    img = orig.copy().astype(np.float32)\n",
    "    Probs, Ranks = classification(img, model_name = 'resnet18', sort = False, show = False)\n",
    "    Probs_np = torch_to_np(Probs)\n",
    "    Confidence[i,0] = Probs_np[original_class]\n",
    "    P , Ranking = Probs.sort(descending=True)\n",
    "    Ranking_np = torch_to_np(Ranking)\n",
    "    for j in range(5):\n",
    "        Confidence[i,j+1] = Probs_np[final_classes[j]]\n",
    "        Ranks_matrix[i,j] = Ranking_np[j]  "
   ]
  },
  {
   "cell_type": "code",
   "execution_count": null,
   "metadata": {},
   "outputs": [],
   "source": [
    "it = np.arange(0, iterations+99, 100)\n",
    "iters = round((iterations-1)/100+1)\n",
    "fig = plt.figure(figsize=(6, 6))\n",
    "plt.xlabel('DIP Iterations')\n",
    "plt.ylabel('Confidence of true class')\n",
    "plt.plot(it,Confidence)\n",
    "plt.show()\n",
    "\n",
    "# Save stuff\n",
    "fig.savefig('results/Adv_DIP/Simple_LLCI_eps5/Graph_Complex_LLCI_eps100_full.png')\n",
    "np.savetxt('results/Adv_DIP/Simple_LLCI_eps5/Complex_LLCI_eps100_full.txt', Confidence)\n",
    "np.savetxt('results/Adv_DIP/Simple_LLCI_eps5/Complex_LLCI_eps100_ranks.txt', Ranks_matrix)\n",
    "for i in range(5):\n",
    "    print(classes[int(Ranks_matrix[-1,i])].split(',')[0])"
   ]
  },
  {
   "cell_type": "code",
   "execution_count": null,
   "metadata": {},
   "outputs": [
    {
     "name": "stdout",
     "output_type": "stream",
     "text": [
      "Number of params: 574915\n",
      "Starting optimization with ADAM\n"
     ]
    },
    {
     "name": "stderr",
     "output_type": "stream",
     "text": [
      "C:\\ProgramData\\Anaconda3\\lib\\site-packages\\torch\\nn\\modules\\upsampling.py:122: UserWarning: nn.Upsampling is deprecated. Use nn.functional.interpolate instead.\n",
      "  warnings.warn(\"nn.Upsampling is deprecated. Use nn.functional.interpolate instead.\")\n",
      "C:\\ProgramData\\Anaconda3\\lib\\site-packages\\torch\\nn\\functional.py:1961: UserWarning: Default upsampling behavior when mode=bilinear is changed to align_corners=False since 0.4.0. Please specify align_corners=True if the old behavior is desired. See the documentation of nn.Upsample for details.\n",
      "  \"See the documentation of nn.Upsample for details.\".format(mode))\n",
      "C:\\ProgramData\\Anaconda3\\lib\\site-packages\\skimage\\measure\\simple_metrics.py:133: UserWarning: Inputs have mismatched dtype.  Setting data_range based on im_true.\n",
      "  warn(\"Inputs have mismatched dtype.  Setting data_range based on \"\n"
     ]
    },
    {
     "name": "stdout",
     "output_type": "stream",
     "text": [
      "DIP Iteration     0    Loss 0.130454   PSNR_noisy: 8.8454\r"
     ]
    },
    {
     "data": {
      "text/plain": [
       "<Figure size 1600x1600 with 3 Axes>"
      ]
     },
     "metadata": {},
     "output_type": "display_data"
    },
    {
     "name": "stdout",
     "output_type": "stream",
     "text": [
      "DIP Iteration   100    Loss 0.018754   PSNR_noisy: 17.2690\r"
     ]
    },
    {
     "data": {
      "text/plain": [
       "<Figure size 1600x1600 with 3 Axes>"
      ]
     },
     "metadata": {},
     "output_type": "display_data"
    },
    {
     "name": "stdout",
     "output_type": "stream",
     "text": [
      "DIP Iteration   200    Loss 0.007219   PSNR_noisy: 21.4152\r"
     ]
    },
    {
     "data": {
      "text/plain": [
       "<Figure size 1600x1600 with 3 Axes>"
      ]
     },
     "metadata": {},
     "output_type": "display_data"
    },
    {
     "name": "stdout",
     "output_type": "stream",
     "text": [
      "DIP Iteration   211    Loss 0.006433   PSNR_noisy: 21.9157\r"
     ]
    }
   ],
   "source": [
    "import matplotlib.pyplot as plt\n",
    "import cv2\n",
    "import argparse\n",
    "import numpy as np\n",
    "from functions.utils import *\n",
    "from functions.adversarial import *\n",
    "from functions.dip import *\n",
    "from functions.classification import *\n",
    "import torch\n",
    "\n",
    "\n",
    "#adv, orig, pert = adversarial_examples(\"data/goldfish.jpg\",method = \"LLCI\",eps=100, num_iter=125,show=False)\n",
    "\n",
    "#for i in range(3):\n",
    "#\tstd1 = 2**(i+3)\n",
    "#        std = std1/64\n",
    "#\tout = dip(adv,num_iter=10000,save=True,PLOT=False,reg_noise_std = #std1,save_path='results/Adv_DIP/Std_complex_{}-64'.format(std1),arch='complex',input_depth=32)\n",
    "#\t\n",
    "#for i in range(6):\n",
    "#\tids = 2**(i+1)\n",
    "#\tout = dip(adv,num_iter=10000,save=True,PLOT=False,save_path='results/Adv_DIP/ID_complex_{}'.format(ids),arch='complex',input_depth=ids)\n",
    "\n",
    "images = ['panda.jpg']    #,'peacock.jpg','F16_GT.png','monkey.jpg','zebra_GT.png']\n",
    "for i in images:\n",
    "    adv, orig, pert = adversarial_examples(\"data/{}\".format(i), method = \"LLCI\", eps=1, show=False)\n",
    "    out = dip(adv, num_iter=10001, save=False, plot=True, save_path='results/Adv_DIP/{}'.format(i), arch='default')"
   ]
  },
  {
   "cell_type": "code",
   "execution_count": null,
   "metadata": {},
   "outputs": [],
   "source": []
  }
 ],
 "metadata": {
  "kernelspec": {
   "display_name": "Python 3",
   "language": "python",
   "name": "python3"
  },
  "language_info": {
   "codemirror_mode": {
    "name": "ipython",
    "version": 3
   },
   "file_extension": ".py",
   "mimetype": "text/x-python",
   "name": "python",
   "nbconvert_exporter": "python",
   "pygments_lexer": "ipython3",
   "version": "3.7.0"
  }
 },
 "nbformat": 4,
 "nbformat_minor": 2
}
