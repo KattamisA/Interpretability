{
 "cells": [
  {
   "cell_type": "markdown",
   "metadata": {},
   "source": [
    "# Importing Libraries"
   ]
  },
  {
   "cell_type": "code",
   "execution_count": 2,
   "metadata": {},
   "outputs": [],
   "source": [
    "from functions.adversarial import *\n",
    "from functions.classification import *\n",
    "from functions.dip.DIP import *\n",
    "import cv2\n",
    "import numpy as np\n",
    "from utils import *\n",
    "import matplotlib.pyplot as plt"
   ]
  },
  {
   "cell_type": "markdown",
   "metadata": {},
   "source": [
    "# Adding noise to the adversarial examples\n",
    "\n",
    "This will test whether adding __normal random noise__ to the adversarial examples can revert them back to the original classification.\n",
    "\n",
    "We will loop over some values of epsilon, $[1, 5, 10, 25, 50, 100]$, for each method and a range for the noise standard deviation of $[1,2,...,128]$, ensuring we clip the adversarial examples such that the range of the final result is within $[0,256]$.\n",
    "\n",
    "We will observe how the confidence of the correct class changes."
   ]
  },
  {
   "cell_type": "markdown",
   "metadata": {},
   "source": [
    "## Fast Gradient Sign Method"
   ]
  },
  {
   "cell_type": "code",
   "execution_count": 2,
   "metadata": {
    "scrolled": true
   },
   "outputs": [
    {
     "name": "stdout",
     "output_type": "stream",
     "text": [
      "Epsilon: 1   Std: 128\r"
     ]
    }
   ],
   "source": [
    "Averages = np.zeros([128,6])\n",
    "Pi = np.ones(3)\n",
    "\n",
    "eps_values = [1]#, 5, 10, 25, 50, 100]\n",
    "for i in range(1):\n",
    "    value = eps_values[i]\n",
    "    adv, orig, pert = adversarial_examples('data/goldfish.jpg',model_name = 'resnet18', method='FGSM',eps=value, show=False)\n",
    "    P, R = classification(orig, model_name = 'resnet18', sort = True, show=False)\n",
    "    original_class = R[0,0]\n",
    "    \n",
    "    for j in range(128):\n",
    "        std = (j+1)\n",
    "        print('Epsilon: {}   Std: {}'.format(value , std), end=\"\\r\")\n",
    "        for k in range(3):\n",
    "            adv_noisy = adv + std*np.random.randn(224,224,3)\n",
    "            adv_noisy = np.clip(adv_noisy,0,255).astype(np.uint8)\n",
    "            P, R = classification(adv_noisy, model_name = 'resnet18', sort = False, show = False)\n",
    "            Pi[k] = P[0,original_class]\n",
    "        Averages[j,i] = np.average(Pi)"
   ]
  },
  {
   "cell_type": "markdown",
   "metadata": {},
   "source": [
    "### Plotting"
   ]
  },
  {
   "cell_type": "code",
   "execution_count": 6,
   "metadata": {
    "scrolled": false
   },
   "outputs": [
    {
     "data": {
      "image/png": "[encoded data removed]",
      "text/plain": [
       "<Figure size 432x432 with 1 Axes>"
      ]
     },
     "metadata": {
      "needs_background": "light"
     },
     "output_type": "display_data"
    }
   ],
   "source": [
    "#np.savetxt('FGSM.txt', Averages)\n",
    "\n",
    "t = np.arange(1, 128, 1)\n",
    "eps_values = [1, 5, 10, 25, 50, 100]\n",
    "for i in range(1):\n",
    "    #plt.close()\n",
    "    fig = plt.figure(1, figsize=(6, 6))\n",
    "    plt.plot(t,Averages[0:127,i])\n",
    "    plt.show()\n",
    "    #fig.savefig('results/Adv_rev_noise/FGSM_Eps{}png'.format(eps_values[i]))\n",
    "\n",
    "plt.close()\n",
    "#fig = plt.figure(figsize=(30, 30))\n",
    "#for i in range(6):\n",
    "#    fig.add_subplot(1, 6, i)\n",
    "#    plt.plot(t,Averages[0:127,i])\n",
    "#plt.show()"
   ]
  },
  {
   "cell_type": "markdown",
   "metadata": {},
   "source": [
    "### Plotting samples from FGSM"
   ]
  },
  {
   "cell_type": "code",
   "execution_count": 13,
   "metadata": {},
   "outputs": [
    {
     "name": "stdout",
     "output_type": "stream",
     "text": [
      "Epsilon: 1   Std: 128\r"
     ]
    }
   ],
   "source": [
    "Samples = np.zeros([128,5])\n",
    "eps_values = [1, 5, 10, 25, 50, 100]\n",
    "\n",
    "for i in range(6):\n",
    "    eps_value = eps_values[i]\n",
    "    adv, orig, pert = adversarial_examples('data/goldfish.jpg',model_name = 'resnet18', method='FGSM',eps=eps_value, show=False)\n",
    "    P, R = classification(orig, model_name = 'resnet18', sort = True, show=False)\n",
    "    original_class = R[0,0]\n",
    "    \n",
    "    for j in range(128):\n",
    "        std = (j+1)\n",
    "        print('Epsilon: {}   Std: {}'.format(value , std), end=\"\\r\")\n",
    "        \n",
    "        for k in range(5):\n",
    "            adv_noisy = adv + std*np.random.randn(224,224,3)\n",
    "            adv_noisy = np.clip(adv_noisy,0,255).astype(np.uint8)\n",
    "            P, R = classification(adv_noisy, model_name = 'resnet18', sort = False, show = False)\n",
    "            Samples[j,k] = P[0,original_class]\n",
    "            \n",
    "    np.savetxt('results/Adv_rev_noise/FGSM_eps{}.txt'.format(eps_value), Samples)\n"
   ]
  },
  {
   "cell_type": "markdown",
   "metadata": {},
   "source": [
    "## Least Likely Class Iterative method"
   ]
  },
  {
   "cell_type": "code",
   "execution_count": 4,
   "metadata": {},
   "outputs": [
    {
     "name": "stdout",
     "output_type": "stream",
     "text": [
      "Epsilon: 1   Std: 100\r"
     ]
    }
   ],
   "source": [
    "Averages = np.zeros([128,6])\n",
    "Pi = np.ones(3)\n",
    "\n",
    "eps_values = [1, 5, 10, 25, 50, 100]\n",
    "for i in range(6):\n",
    "    value = eps_values[i]\n",
    "    adv, orig, pert = adversarial_examples('data/goldfish.jpg',model_name = 'resnet18', method='FGSM',eps=value, show=False)\n",
    "    P, R = classification(orig, model_name = 'resnet18', sort = True, show=False)\n",
    "    original_class = R[0,0]\n",
    "    \n",
    "    for j in range(128):\n",
    "        std = (j+1)\n",
    "        print('Epsilon: {}   Std: {}'.format(value , std), end=\"\\r\")\n",
    "        for k in range(3):\n",
    "            adv_noisy = adv + std*np.random.randn(224,224,3)\n",
    "            P, R = classification(adv_noisy, model_name = 'resnet18', sort = False, show = False)\n",
    "            Pi[k] = P[0,original_class]\n",
    "        Averages[j,i] = np.average(Pi)"
   ]
  },
  {
   "cell_type": "markdown",
   "metadata": {},
   "source": [
    "### Plotting"
   ]
  },
  {
   "cell_type": "code",
   "execution_count": null,
   "metadata": {},
   "outputs": [],
   "source": [
    "np.savetxt('FGSM.txt', Averages)\n",
    "\n",
    "t = np.arange(1, 128, 1)\n",
    "eps_values = [1, 5, 10, 25, 50, 100]\n",
    "for i in range(6):\n",
    "    plt.close()\n",
    "    fig = plt.figure(1, figsize=(6, 6))\n",
    "    plt.plot(t,Averages[0:127,i])\n",
    "    fig.savefig('results/Adv_rev_noise/FGSM_Eps{}png'.format(eps_values[i]))\n",
    "\n",
    "plt.close()\n",
    "fig = plt.figure(figsize=(30, 30))\n",
    "for i in range(6):\n",
    "    fig.add_subplot(1, 6, i)\n",
    "    plt.plot(t,Averages[0:127,i])\n",
    "plt.show()"
   ]
  },
  {
   "cell_type": "markdown",
   "metadata": {},
   "source": [
    "### Plotting samples from LLCI"
   ]
  },
  {
   "cell_type": "code",
   "execution_count": 3,
   "metadata": {},
   "outputs": [
    {
     "name": "stdout",
     "output_type": "stream",
     "text": [
      "Epsilon: 100   Std: 128\r"
     ]
    }
   ],
   "source": [
    "Samples = np.zeros([128,5])\n",
    "eps_values = [1, 5, 10, 25, 50, 100]\n",
    "\n",
    "for i in range(6):\n",
    "    eps_value = eps_values[i]\n",
    "    adv, orig, pert = adversarial_examples('data/goldfish.jpg',model_name = 'resnet18', method='LLCI',eps=eps_value, show=False)\n",
    "    P, R = classification(orig, model_name = 'resnet18', sort = True, show=False)\n",
    "    original_class = R[0,0]\n",
    "    \n",
    "    for j in range(128):\n",
    "        std = (j+1)\n",
    "        print('Epsilon: {}   Std: {}'.format(eps_value , std), end=\"\\r\")\n",
    "        \n",
    "        for k in range(5):\n",
    "            adv_noisy = adv + std*np.random.randn(224,224,3)\n",
    "            adv_noisy = np.clip(adv_noisy,0,255).astype(np.uint8)\n",
    "            P, R = classification(adv_noisy, model_name = 'resnet18', sort = False, show = False)\n",
    "            Samples[j,k] = P[0,original_class]\n",
    "            \n",
    "    np.savetxt('results/Adv_rev_noise/LLCI_eps{}.txt'.format(eps_value), Samples)"
   ]
  },
  {
   "cell_type": "markdown",
   "metadata": {},
   "source": [
    "## Plotting samples  from BI"
   ]
  },
  {
   "cell_type": "code",
   "execution_count": 3,
   "metadata": {},
   "outputs": [
    {
     "name": "stdout",
     "output_type": "stream",
     "text": [
      "Epsilon: 100   Std: 128\r"
     ]
    }
   ],
   "source": [
    "Samples = np.zeros([128,5])\n",
    "eps_values = [1, 5, 10, 25, 50, 100]\n",
    "\n",
    "for i in range(6):\n",
    "    eps_value = eps_values[i]\n",
    "    adv, orig, pert = adversarial_examples('data/goldfish.jpg',model_name = 'resnet18', method='BI',eps=eps_value, show=False)\n",
    "    P, R = classification(orig, model_name = 'resnet18', sort = True, show=False)\n",
    "    original_class = R[0,0]\n",
    "    \n",
    "    for j in range(128):\n",
    "        std = (j+1)\n",
    "        print('Epsilon: {}   Std: {:>3}'.format(eps_value , std), end=\"\\r\")\n",
    "        \n",
    "        for k in range(5):\n",
    "            adv_noisy = adv + std*np.random.randn(224,224,3)\n",
    "            adv_noisy = np.clip(adv_noisy,0,255).astype(np.uint8)\n",
    "            P, R = classification(adv_noisy, model_name = 'resnet18', sort = False, show = False)\n",
    "            Samples[j,k] = P[0,original_class]\n",
    "            \n",
    "    np.savetxt('results/Adv_rev_noise/BI_eps{}.txt'.format(eps_value), Samples)"
   ]
  },
  {
   "cell_type": "markdown",
   "metadata": {},
   "source": [
    "## Observing effects of adding  noise to the original image"
   ]
  },
  {
   "cell_type": "code",
   "execution_count": 7,
   "metadata": {},
   "outputs": [
    {
     "name": "stdout",
     "output_type": "stream",
     "text": [
      "Std: 128\r"
     ]
    }
   ],
   "source": [
    "Samples = np.zeros([128,5])\n",
    "orig = cv2.imread('data/goldfish.jpg')[..., ::-1]\n",
    "orig = cv2.resize(orig, (224, 224))\n",
    "for j in range(128):\n",
    "    std = (j+1)\n",
    "    print('Std: {:>3}'.format(std), end=\"\\r\")\n",
    "\n",
    "    for k in range(5):\n",
    "        orig_noisy = orig + std*np.random.randn(224,224,3)\n",
    "        orig_noisy = np.clip(orig_noisy,0,255).astype(np.uint8)\n",
    "        P, R = classification(orig_noisy, model_name = 'resnet18 ', sort = False, show = False)\n",
    "        Samples[j,k] = P[0,original_class]\n",
    "\n",
    "np.savetxt('results/Adv_rev_noise/orig_noisy_RN50.txt', Samples)"
   ]
  }
 ],
 "metadata": {
  "kernelspec": {
   "display_name": "Python 3",
   "language": "python",
   "name": "python3"
  },
  "language_info": {
   "codemirror_mode": {
    "name": "ipython",
    "version": 3
   },
   "file_extension": ".py",
   "mimetype": "text/x-python",
   "name": "python",
   "nbconvert_exporter": "python",
   "pygments_lexer": "ipython3",
   "version": "3.7.0"
  }
 },
 "nbformat": 4,
 "nbformat_minor": 2
}
